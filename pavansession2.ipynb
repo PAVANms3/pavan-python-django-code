{
 "cells": [
  {
   "cell_type": "code",
   "execution_count": null,
   "metadata": {},
   "outputs": [],
   "source": [
    "                                #DATA TYPES OF PYTHON DJANGO"
   ]
  },
  {
   "cell_type": "code",
   "execution_count": 2,
   "metadata": {},
   "outputs": [
    {
     "name": "stdout",
     "output_type": "stream",
     "text": [
      "14\n"
     ]
    }
   ],
   "source": [
    "#integer data type\n",
    "a=10\n",
    "b=4\n",
    "c=a+b\n",
    "print(c)"
   ]
  },
  {
   "cell_type": "code",
   "execution_count": 30,
   "metadata": {},
   "outputs": [
    {
     "name": "stdout",
     "output_type": "stream",
     "text": [
      "129.273\n"
     ]
    }
   ],
   "source": [
    "#float data type\n",
    "a=10.51\n",
    "b=11.3\n",
    "c=a+b*a\n",
    "print(c)"
   ]
  },
  {
   "cell_type": "code",
   "execution_count": 5,
   "metadata": {},
   "outputs": [
    {
     "name": "stdout",
     "output_type": "stream",
     "text": [
      "pavanhi\n"
     ]
    }
   ],
   "source": [
    "#string data type\n",
    "a=\"pavan\" \"\"\"hi\"\"\"\n",
    "print(a)"
   ]
  },
  {
   "cell_type": "code",
   "execution_count": 39,
   "metadata": {},
   "outputs": [
    {
     "ename": "SyntaxError",
     "evalue": "invalid syntax (<ipython-input-39-5a30c0779b49>, line 2)",
     "output_type": "error",
     "traceback": [
      "\u001b[1;36m  File \u001b[1;32m\"<ipython-input-39-5a30c0779b49>\"\u001b[1;36m, line \u001b[1;32m2\u001b[0m\n\u001b[1;33m    l=[10,11,12,13,\"edyoda\",['1234'],12.34,\"email\":124]\u001b[0m\n\u001b[1;37m                                                  ^\u001b[0m\n\u001b[1;31mSyntaxError\u001b[0m\u001b[1;31m:\u001b[0m invalid syntax\n"
     ]
    }
   ],
   "source": [
    "#list data type\n",
    "l=[10,11,12,13,\"edyoda\",['1234'],12.34,\"email\":124]\n",
    "print(l)"
   ]
  },
  {
   "cell_type": "code",
   "execution_count": 37,
   "metadata": {},
   "outputs": [
    {
     "name": "stdout",
     "output_type": "stream",
     "text": [
      "(10, 11, 12, 13, 'ed_yoda', 12.671)\n"
     ]
    }
   ],
   "source": [
    "#tuple data type\n",
    "t=(10,11,12,13,\"ed_yoda\",12.671)\n",
    "print(t)"
   ]
  },
  {
   "cell_type": "code",
   "execution_count": 34,
   "metadata": {},
   "outputs": [
    {
     "ename": "SyntaxError",
     "evalue": "invalid syntax (<ipython-input-34-7f1e8f95ad5e>, line 2)",
     "output_type": "error",
     "traceback": [
      "\u001b[1;36m  File \u001b[1;32m\"<ipython-input-34-7f1e8f95ad5e>\"\u001b[1;36m, line \u001b[1;32m2\u001b[0m\n\u001b[1;33m    d={\"name\":\"pavan\",\"emai123l\":\"pavanmshsn@gmail.com\",12345,12.34\"contact\":1234567890}\u001b[0m\n\u001b[1;37m                                                             ^\u001b[0m\n\u001b[1;31mSyntaxError\u001b[0m\u001b[1;31m:\u001b[0m invalid syntax\n"
     ]
    }
   ],
   "source": [
    "#dictionary data type\n",
    "d={\"name\":\"pavan\",\"emai123l\":\"pavanmshsn@gmail.com\",12345,12.34\"contact\":1234567890}\n",
    "print(d)"
   ]
  },
  {
   "cell_type": "code",
   "execution_count": 43,
   "metadata": {},
   "outputs": [
    {
     "name": "stdout",
     "output_type": "stream",
     "text": [
      "{2, '@', 10, 12.414, 'asm', 20, 23, 24}\n"
     ]
    }
   ],
   "source": [
    "#set data type\n",
    "s={10,20,12.414,2,\"@\",23,24,23,\"asm\"}\n",
    "print(s)"
   ]
  },
  {
   "cell_type": "code",
   "execution_count": 44,
   "metadata": {},
   "outputs": [
    {
     "name": "stdout",
     "output_type": "stream",
     "text": [
      "False\n"
     ]
    }
   ],
   "source": [
    "#bool data type\n",
    "a=\"pyth 123\"\n",
    "b=\"pYTH\"\n",
    "c=a<b \n",
    "print(c)"
   ]
  },
  {
   "cell_type": "code",
   "execution_count": null,
   "metadata": {},
   "outputs": [],
   "source": [
    "Mutable   : The data or objects can add,delete and be updated\n",
    "                    ex: list,set,dict\n",
    "Immutable : The data or objects cannot be add,delete and updated\n",
    "                    ex:int,float,string,tuple"
   ]
  },
  {
   "cell_type": "code",
   "execution_count": null,
   "metadata": {},
   "outputs": [],
   "source": [
    "                                    #FINDING TYPE OF DATA TYPES"
   ]
  },
  {
   "cell_type": "code",
   "execution_count": 37,
   "metadata": {},
   "outputs": [
    {
     "name": "stdout",
     "output_type": "stream",
     "text": [
      "21 <class 'int'>\n"
     ]
    }
   ],
   "source": [
    "#integer data type\n",
    "a=10\n",
    "b=1\n",
    "c=a+b+b*a\n",
    "print(c,type(c))"
   ]
  },
  {
   "cell_type": "code",
   "execution_count": 38,
   "metadata": {},
   "outputs": [
    {
     "name": "stdout",
     "output_type": "stream",
     "text": [
      "11.4696 <class 'float'>\n"
     ]
    }
   ],
   "source": [
    "#float data type\n",
    "a=10.234\n",
    "b=1.2356\n",
    "c=a+b\n",
    "print(c,type(c))"
   ]
  },
  {
   "cell_type": "code",
   "execution_count": 46,
   "metadata": {},
   "outputs": [
    {
     "name": "stdout",
     "output_type": "stream",
     "text": [
      "abcd <class 'str'>\n"
     ]
    }
   ],
   "source": [
    "#string data type\n",
    "a=\"abcd\"\n",
    "print(a,type(a))"
   ]
  },
  {
   "cell_type": "code",
   "execution_count": 47,
   "metadata": {},
   "outputs": [
    {
     "name": "stdout",
     "output_type": "stream",
     "text": [
      "[10, 11, 12, 13, 'edyoda', ['1234']] <class 'list'>\n"
     ]
    }
   ],
   "source": [
    "#list data type\n",
    "l=[10,11,12,13,\"edyoda\",['1234']]\n",
    "print(l,type(l))"
   ]
  },
  {
   "cell_type": "code",
   "execution_count": 49,
   "metadata": {},
   "outputs": [
    {
     "name": "stdout",
     "output_type": "stream",
     "text": [
      "(10, 11, 12, 13, 'edyoda', '@') <class 'tuple'>\n"
     ]
    }
   ],
   "source": [
    "#tuple data type\n",
    "t=(10,11,12,13,\"edyoda\",\"\"\"@\"\"\")\n",
    "print(t,type(t))"
   ]
  },
  {
   "cell_type": "code",
   "execution_count": 50,
   "metadata": {},
   "outputs": [
    {
     "name": "stdout",
     "output_type": "stream",
     "text": [
      "{'name': 'pavan', 'email': 'pavanmshsn@gmail.com', 'contact': 1234567890} <class 'dict'>\n"
     ]
    }
   ],
   "source": [
    "#dictionary data type\n",
    "d={\"name\":\"pavan\",\"email\":\"pavanmshsn@gmail.com\",\"contact\":1234567890}\n",
    "print(d,type(d))"
   ]
  },
  {
   "cell_type": "code",
   "execution_count": 52,
   "metadata": {},
   "outputs": [
    {
     "name": "stdout",
     "output_type": "stream",
     "text": [
      "{10, 14, 20, 23, 24, 30} <class 'set'>\n"
     ]
    }
   ],
   "source": [
    "#set data type\n",
    "s={10,20,30,14,23,24,23}\n",
    "print(s,type(s))"
   ]
  },
  {
   "cell_type": "code",
   "execution_count": 54,
   "metadata": {},
   "outputs": [
    {
     "name": "stdout",
     "output_type": "stream",
     "text": [
      "False <class 'bool'>\n"
     ]
    }
   ],
   "source": [
    "#bool data type\n",
    "a=7\n",
    "b=4\n",
    "c=a<b\n",
    "print(c,type(c))"
   ]
  },
  {
   "cell_type": "code",
   "execution_count": null,
   "metadata": {},
   "outputs": [],
   "source": [
    "PEP 8: Python Extension Proposal\n",
    "            Guidelines about how your code should be look "
   ]
  },
  {
   "cell_type": "code",
   "execution_count": null,
   "metadata": {},
   "outputs": [],
   "source": [
    "                                            #TO FIND ID OF DATA TYPES"
   ]
  },
  {
   "cell_type": "code",
   "execution_count": null,
   "metadata": {},
   "outputs": [],
   "source": [
    ">location of data is same, from 0 to 266 bits."
   ]
  },
  {
   "cell_type": "code",
   "execution_count": 55,
   "metadata": {},
   "outputs": [
    {
     "name": "stdout",
     "output_type": "stream",
     "text": [
      "15122309 731337206320\n"
     ]
    }
   ],
   "source": [
    "#integer data type\n",
    "a=11234\n",
    "b=1345\n",
    "c=a+b+b*a\n",
    "print(c,id(c))"
   ]
  },
  {
   "cell_type": "code",
   "execution_count": 56,
   "metadata": {},
   "outputs": [
    {
     "name": "stdout",
     "output_type": "stream",
     "text": [
      "133.59 731308278800\n"
     ]
    }
   ],
   "source": [
    "#float data type\n",
    "a=10.234\n",
    "b=123.356\n",
    "c=a+b\n",
    "print(c,id(c))"
   ]
  },
  {
   "cell_type": "code",
   "execution_count": 59,
   "metadata": {},
   "outputs": [
    {
     "name": "stdout",
     "output_type": "stream",
     "text": [
      "1234 12 731313330672\n"
     ]
    }
   ],
   "source": [
    "#string data type\n",
    "a=\"1234\"\n",
    "b=\"12\"\n",
    "c=a+b\n",
    "print(c,id(c))"
   ]
  },
  {
   "cell_type": "code",
   "execution_count": 60,
   "metadata": {},
   "outputs": [
    {
     "name": "stdout",
     "output_type": "stream",
     "text": [
      "[10, 12, 13, 'edyoda', ['12']] 731336581960\n"
     ]
    }
   ],
   "source": [
    "#list data type\n",
    "l=[10,12,13,\"edyoda\",['12']]\n",
    "print(l,id(l))"
   ]
  },
  {
   "cell_type": "code",
   "execution_count": 61,
   "metadata": {},
   "outputs": [
    {
     "name": "stdout",
     "output_type": "stream",
     "text": [
      "(10, 11, 12, 13, 'edyoda', '@mail') 731313210952\n"
     ]
    }
   ],
   "source": [
    "#tuple data type\n",
    "t=(10,11,12,13,\"edyoda\",\"\"\"@mail\"\"\")\n",
    "print(t,id(t))"
   ]
  },
  {
   "cell_type": "code",
   "execution_count": 63,
   "metadata": {},
   "outputs": [
    {
     "name": "stdout",
     "output_type": "stream",
     "text": [
      "{'name': 'pavan123', 'email': 'pavanms123@gmail.com', 'contact': 1234567890}\n",
      "731313293736\n"
     ]
    }
   ],
   "source": [
    "#dictionary data type\n",
    "d={\"name\":\"pavan123\",\"email\":\"pavanms123@gmail.com\",\"contact\":1234567890}\n",
    "print(d)\n",
    "print(id(d))"
   ]
  },
  {
   "cell_type": "code",
   "execution_count": 64,
   "metadata": {},
   "outputs": [
    {
     "name": "stdout",
     "output_type": "stream",
     "text": [
      "{10, 14, 20, 23, 24, 30} 731336415720\n"
     ]
    }
   ],
   "source": [
    "#set data type\n",
    "s={10,20,30,14,23,24,23}\n",
    "print(s,id(s))"
   ]
  },
  {
   "cell_type": "code",
   "execution_count": 68,
   "metadata": {},
   "outputs": [
    {
     "name": "stdout",
     "output_type": "stream",
     "text": [
      "False 140711494134128\n"
     ]
    }
   ],
   "source": [
    "#boolean data type\n",
    "a=7123\n",
    "b=4223.2\n",
    "c=a<b\n",
    "print(c,id(c))"
   ]
  },
  {
   "cell_type": "code",
   "execution_count": null,
   "metadata": {},
   "outputs": [],
   "source": [
    "                                #OPERATORS OF PYTHON DJANGO"
   ]
  },
  {
   "cell_type": "code",
   "execution_count": null,
   "metadata": {},
   "outputs": [],
   "source": [
    "#Airthmetic operator\n",
    "+ addition\n",
    "- subtraction\n",
    "* multipplication\n",
    "/ True division\n",
    "// floor division\n",
    "** powers\n",
    "% modulus"
   ]
  },
  {
   "cell_type": "code",
   "execution_count": 82,
   "metadata": {},
   "outputs": [
    {
     "name": "stdout",
     "output_type": "stream",
     "text": [
      "119\n",
      "105\n",
      "784\n",
      "16.0\n",
      "16\n",
      "221068140740608\n",
      "0\n"
     ]
    }
   ],
   "source": [
    "a=112\n",
    "b=7\n",
    "print(a+b)\n",
    "print(a-b)\n",
    "print(a*b)\n",
    "print(a/b)\n",
    "print(a//b)\n",
    "print(a**b)\n",
    "print(a%b)"
   ]
  },
  {
   "cell_type": "code",
   "execution_count": null,
   "metadata": {},
   "outputs": [],
   "source": [
    "#comparision operators\n",
    "==,<,>,<=,>=,!="
   ]
  },
  {
   "cell_type": "code",
   "execution_count": 45,
   "metadata": {},
   "outputs": [
    {
     "name": "stdout",
     "output_type": "stream",
     "text": [
      "False\n",
      "True\n",
      "False\n",
      "True\n",
      "False\n",
      "True\n"
     ]
    }
   ],
   "source": [
    "me='abcd'\n",
    "you='ABCD'\n",
    "print(me==you)\n",
    "print(me<you)\n",
    "print(me>you)\n",
    "print(me<=you)\n",
    "print(me>=you)\n",
    "print(me!=you)"
   ]
  },
  {
   "cell_type": "code",
   "execution_count": null,
   "metadata": {},
   "outputs": [],
   "source": [
    "#Membership operators\n",
    "in ,not in"
   ]
  },
  {
   "cell_type": "code",
   "execution_count": 47,
   "metadata": {},
   "outputs": [
    {
     "name": "stdout",
     "output_type": "stream",
     "text": [
      "False\n",
      "False\n",
      "False\n"
     ]
    }
   ],
   "source": [
    "l=[1,234,'java']\n",
    "print(a in l)\n",
    "print(234 not in l)\n",
    "print( 5 in l)"
   ]
  },
  {
   "cell_type": "code",
   "execution_count": 100,
   "metadata": {},
   "outputs": [
    {
     "name": "stdout",
     "output_type": "stream",
     "text": [
      "False\n",
      "True\n",
      "False\n"
     ]
    }
   ],
   "source": [
    "d={1:10,\"age\":20,\"name\":\"abi\"}\n",
    "print(1 not in d)\n",
    "print(1 in d)\n",
    "print(a in d)"
   ]
  },
  {
   "cell_type": "code",
   "execution_count": null,
   "metadata": {},
   "outputs": [],
   "source": [
    "Not Iterable :int ,float\n",
    "Iterable     :str,tuple,set,dict,list"
   ]
  },
  {
   "cell_type": "code",
   "execution_count": null,
   "metadata": {},
   "outputs": [],
   "source": [
    "#Identity operators\n",
    "is is not"
   ]
  },
  {
   "cell_type": "code",
   "execution_count": 110,
   "metadata": {},
   "outputs": [
    {
     "name": "stdout",
     "output_type": "stream",
     "text": [
      "False\n",
      "False\n",
      "True\n"
     ]
    }
   ],
   "source": [
    "s1=12\n",
    "s2=11\n",
    "print(11 is not s2)\n",
    "print(s1 is s2)\n",
    "print(s2 is not s1)"
   ]
  },
  {
   "cell_type": "code",
   "execution_count": null,
   "metadata": {},
   "outputs": [],
   "source": [
    "#Assignement operator\n",
    "=,+=,-=,*=,/="
   ]
  },
  {
   "cell_type": "code",
   "execution_count": 114,
   "metadata": {},
   "outputs": [
    {
     "name": "stdout",
     "output_type": "stream",
     "text": [
      "7\n",
      "1\n",
      "21\n",
      "0.5\n"
     ]
    }
   ],
   "source": [
    "n1=5\n",
    "n2=3\n",
    "n1+=2\n",
    "print(n1)\n",
    "n2-=2\n",
    "print(n2)\n",
    "n1*=3\n",
    "print(n1)\n",
    "n2/=2\n",
    "print(n2)"
   ]
  },
  {
   "cell_type": "code",
   "execution_count": null,
   "metadata": {},
   "outputs": [],
   "source": [
    "   #logical operator\n",
    "and or not"
   ]
  },
  {
   "cell_type": "code",
   "execution_count": 52,
   "metadata": {},
   "outputs": [
    {
     "name": "stdout",
     "output_type": "stream",
     "text": [
      "False\n"
     ]
    }
   ],
   "source": [
    "print(2==2 and 2!=2 )"
   ]
  }
 ],
 "metadata": {
  "kernelspec": {
   "display_name": "Python 3",
   "language": "python",
   "name": "python3"
  },
  "language_info": {
   "codemirror_mode": {
    "name": "ipython",
    "version": 3
   },
   "file_extension": ".py",
   "mimetype": "text/x-python",
   "name": "python",
   "nbconvert_exporter": "python",
   "pygments_lexer": "ipython3",
   "version": "3.7.4"
  }
 },
 "nbformat": 4,
 "nbformat_minor": 2
}
