{
 "cells": [
  {
   "cell_type": "code",
   "execution_count": 2,
   "metadata": {},
   "outputs": [],
   "source": [
    "                 Looping statements"
   ]
  },
  {
   "cell_type": "code",
   "execution_count": null,
   "metadata": {},
   "outputs": [],
   "source": [
    "for [userdefined_variables] in [iterable_datatypes] :\n",
    "    [statements]"
   ]
  },
  {
   "cell_type": "code",
   "execution_count": null,
   "metadata": {},
   "outputs": [],
   "source": [
    "iterable data types\n",
    "    list\n",
    "    set\n",
    "    dict\n",
    "    str\n",
    "    tuple"
   ]
  },
  {
   "cell_type": "code",
   "execution_count": 9,
   "metadata": {},
   "outputs": [
    {
     "name": "stdout",
     "output_type": "stream",
     "text": [
      "10\n",
      "100\n",
      "20\n",
      "400\n",
      "30\n",
      "900\n",
      "40\n",
      "1600\n",
      "50\n",
      "2500\n"
     ]
    }
   ],
   "source": [
    "l=[10,20,30,40,50]\n",
    "for value in l:\n",
    "    print(value)\n",
    "    \n",
    "    print(value * value)"
   ]
  },
  {
   "cell_type": "code",
   "execution_count": 12,
   "metadata": {},
   "outputs": [
    {
     "name": "stdout",
     "output_type": "stream",
     "text": [
      "p\n",
      "y\n",
      "t\n",
      "h\n",
      "o\n",
      "n\n",
      " \n",
      "i\n",
      "s\n",
      " \n",
      "e\n",
      "a\n",
      "s\n",
      "i\n",
      "e\n",
      "r\n",
      " \n",
      "t\n",
      "o\n",
      " \n",
      "l\n",
      "e\n",
      "a\n",
      "r\n",
      "n\n"
     ]
    }
   ],
   "source": [
    "for value in \"python is easier to learn\" :\n",
    "    print(value)"
   ]
  },
  {
   "cell_type": "code",
   "execution_count": 19,
   "metadata": {},
   "outputs": [
    {
     "name": "stdout",
     "output_type": "stream",
     "text": [
      "email\n",
      "name\n",
      "id\n"
     ]
    }
   ],
   "source": [
    "d={\"email\" : \"abc@gmail.com\",\"name\" :\"ABC\",\"id\":100}\n",
    "for ar in d :\n",
    "    print(ar)"
   ]
  },
  {
   "cell_type": "code",
   "execution_count": 22,
   "metadata": {},
   "outputs": [
    {
     "name": "stdout",
     "output_type": "stream",
     "text": [
      "10\n",
      "30\n",
      "60\n",
      "100\n",
      "150\n"
     ]
    }
   ],
   "source": [
    "l=[10,20,30,40,50]\n",
    "\n",
    "# sum = 0\n",
    "# sum = sum + 10 =10\n",
    "# sum = 10\n",
    "# sum = sum + 20 =30\n",
    "# sum = 20\n",
    "# sum = sum + 30 =60\n",
    "# sum = 30\n",
    "# sum = sum + 40 =100\n",
    "# sum = 40\n",
    "# sum = sum + 50 =150\n",
    "sum = 0\n",
    "for value in l :\n",
    "    sum = sum + value\n",
    "    print(sum)\n"
   ]
  },
  {
   "cell_type": "code",
   "execution_count": null,
   "metadata": {},
   "outputs": [],
   "source": [
    "range(10) 0..............9\n",
    "range (10,20) 10,11......19\n",
    "range (10,50,5)10,15,20,.........45\n"
   ]
  },
  {
   "cell_type": "code",
   "execution_count": 4,
   "metadata": {},
   "outputs": [
    {
     "name": "stdout",
     "output_type": "stream",
     "text": [
      "23\n",
      "24\n",
      "25\n",
      "26\n",
      "27\n",
      "28\n",
      "29\n",
      "30\n",
      "0\n",
      "1\n",
      "2\n",
      "3\n",
      "4\n",
      "5\n",
      "6\n",
      "7\n",
      "8\n",
      "9\n"
     ]
    }
   ],
   "source": [
    "for value in range(23,31) :\n",
    "    print(value)\n",
    "for v in range(10) :\n",
    "    print(v)"
   ]
  },
  {
   "cell_type": "code",
   "execution_count": 36,
   "metadata": {},
   "outputs": [
    {
     "name": "stdout",
     "output_type": "stream",
     "text": [
      "lets check if i see this in output\n",
      "lets check if i see this in output\n",
      "4 8\n"
     ]
    }
   ],
   "source": [
    "s=\"python is easy\"\n",
    "vowel_count = 0\n",
    "consonent_count = 0\n",
    "\n",
    "for value in s :\n",
    "    if value in \"aeiouAEIOU\" :\n",
    "        vowel_count+=1\n",
    "    elif value == \" \":\n",
    "        pass\n",
    "        print(\"lets check if i see this in output\")\n",
    "    else :\n",
    "        consonent_count+=1\n",
    "print(vowel_count,consonent_count)"
   ]
  },
  {
   "cell_type": "code",
   "execution_count": 45,
   "metadata": {},
   "outputs": [
    {
     "name": "stdout",
     "output_type": "stream",
     "text": [
      "hi\n",
      "hello\n"
     ]
    }
   ],
   "source": [
    "if 67 :\n",
    "    print(\"hi\")\n",
    "else :\n",
    "    pass\n",
    "print(\"hello\")"
   ]
  },
  {
   "cell_type": "code",
   "execution_count": 53,
   "metadata": {},
   "outputs": [
    {
     "name": "stdout",
     "output_type": "stream",
     "text": [
      "10\n",
      "20\n",
      "30\n",
      "stop the nagative number is -1\n",
      "100\n",
      "20\n",
      "50\n",
      "60\n"
     ]
    }
   ],
   "source": [
    "l=[10,20,30,-1,100,20,50,60]\n",
    "for value in l:\n",
    "    if value < 0:\n",
    "        print(\"stop the nagative number is\", value)\n",
    "        continue\n",
    "    else :\n",
    "        print(value)"
   ]
  },
  {
   "cell_type": "code",
   "execution_count": 11,
   "metadata": {},
   "outputs": [
    {
     "name": "stdout",
     "output_type": "stream",
     "text": [
      "10\n",
      "\n",
      "20\n",
      "\n",
      "30\n",
      "\n",
      "40\n",
      "\n",
      "50\n",
      "50 is their\n"
     ]
    }
   ],
   "source": [
    "\n",
    "num = [10,20,30,40,50,78,56]\n",
    "key = 50\n",
    "for value in num :\n",
    "    print(value)\n",
    "    if value == key:\n",
    "        print (value,\"is their\")\n",
    "        break\n",
    "    else :\n",
    "        print(\"\")\n",
    "    "
   ]
  },
  {
   "cell_type": "code",
   "execution_count": 18,
   "metadata": {},
   "outputs": [
    {
     "name": "stdout",
     "output_type": "stream",
     "text": [
      "10\n",
      "20\n",
      "value is 30\n",
      "40\n",
      "50\n"
     ]
    }
   ],
   "source": [
    "l=[10,20,30,40,50]\n",
    "for value in l :\n",
    "    if value == 30 :\n",
    "        print(\"value is 30\")\n",
    "    else :\n",
    "        print(value)\n",
    "        "
   ]
  },
  {
   "cell_type": "code",
   "execution_count": 22,
   "metadata": {},
   "outputs": [
    {
     "name": "stdout",
     "output_type": "stream",
     "text": [
      "10\n",
      "20\n",
      "30\n",
      "40\n",
      "50\n",
      "60\n",
      "70\n",
      "key is not present\n"
     ]
    }
   ],
   "source": [
    "nums = [10,20,30,40,50,60,70]\n",
    "key = 90\n",
    "flag = False \n",
    "for value in nums :\n",
    "    print(value)\n",
    "    if value == key :\n",
    "        flag = True\n",
    "        break    \n",
    "if flag == True :\n",
    "    print(\"key is present\")\n",
    "else :\n",
    "    print(\"key is not present\")"
   ]
  },
  {
   "cell_type": "code",
   "execution_count": null,
   "metadata": {},
   "outputs": [],
   "source": [
    "enumerate = >  index,value"
   ]
  },
  {
   "cell_type": "code",
   "execution_count": 36,
   "metadata": {},
   "outputs": [
    {
     "name": "stdout",
     "output_type": "stream",
     "text": [
      "0 1\n",
      "1 2\n",
      "2 3\n",
      "3 45\n",
      "4 5\n",
      "5 p\n"
     ]
    }
   ],
   "source": [
    "l=[1,2,3,45,5,\"p\"]\n",
    "for index,value in enumerate(l):\n",
    "    print(index,value)\n",
    "    \n",
    "# index is positions of a data\n",
    "# value is a data"
   ]
  },
  {
   "cell_type": "code",
   "execution_count": 64,
   "metadata": {},
   "outputs": [
    {
     "name": "stdout",
     "output_type": "stream",
     "text": [
      "3 key is not present\n",
      "3 key is not present\n",
      "3 key is present in position 2\n",
      "3 key is not present\n",
      "3 key is not present\n"
     ]
    }
   ],
   "source": [
    "l=[1,2,3,4,5]\n",
    "key=3\n",
    "for index, value in enumerate(l) :\n",
    "        \n",
    "    if value == key :\n",
    "        print(key ,\"key is present in position\",index)\n",
    "        \n",
    "    else :\n",
    "        print(key,\"key is not present\")"
   ]
  },
  {
   "cell_type": "code",
   "execution_count": 72,
   "metadata": {},
   "outputs": [
    {
     "name": "stdout",
     "output_type": "stream",
     "text": [
      "3\n",
      "1\n",
      "3\n",
      "3\n",
      "not a perfect number\n"
     ]
    }
   ],
   "source": [
    "num1=6\n",
    "sum=0\n",
    "a=num1 // 2\n",
    "for value in range(1,a):\n",
    "    print(a)\n",
    "    if num1 % value == 0:\n",
    "        sum=sum + value\n",
    "        print(sum)\n",
    "if sum == num1:\n",
    "    print(\"perfect number\")\n",
    "else :\n",
    "    print(\"not a perfect number\")"
   ]
  },
  {
   "cell_type": "code",
   "execution_count": 76,
   "metadata": {},
   "outputs": [
    {
     "name": "stdout",
     "output_type": "stream",
     "text": [
      "5\n",
      "10\n",
      "15\n",
      "20\n",
      "25\n",
      "30\n",
      "35\n",
      "40\n",
      "45\n",
      "50\n"
     ]
    }
   ],
   "source": [
    "#tables of 5\n",
    "n1=5\n",
    "for value in range(1,11):\n",
    "    print(5*value)"
   ]
  },
  {
   "cell_type": "code",
   "execution_count": 81,
   "metadata": {},
   "outputs": [
    {
     "name": "stdout",
     "output_type": "stream",
     "text": [
      "0 100\n",
      "0 101\n",
      "0 102\n",
      "0 103\n",
      "0 104\n",
      "1 100\n",
      "1 101\n",
      "1 102\n",
      "1 103\n",
      "1 104\n",
      "2 100\n",
      "2 101\n",
      "2 102\n",
      "2 103\n",
      "2 104\n",
      "3 100\n",
      "3 101\n",
      "3 102\n",
      "3 103\n",
      "3 104\n",
      "4 100\n",
      "4 101\n",
      "4 102\n",
      "4 103\n",
      "4 104\n"
     ]
    }
   ],
   "source": [
    "for value1 in range(5):\n",
    "    for value2 in range(100,105):\n",
    "        print(value1,value2)"
   ]
  },
  {
   "cell_type": "code",
   "execution_count": 29,
   "metadata": {},
   "outputs": [
    {
     "name": "stdout",
     "output_type": "stream",
     "text": [
      "1 2 3 4 5 6 7 8 9 10 \n",
      "\n",
      "2 4 6 8 10 12 14 16 18 20 \n",
      "\n",
      "3 6 9 12 15 18 21 24 27 30 \n",
      "\n",
      "4 8 12 16 20 24 28 32 36 40 \n",
      "\n",
      "5 10 15 20 25 30 35 40 45 50 \n",
      "\n"
     ]
    }
   ],
   "source": [
    "for value1 in range(1,6):\n",
    "    \n",
    "    for value2 in range(1,11) :\n",
    "    \n",
    "        print(value1*value2,end = \" \")\n",
    "    print(\"\\n\")"
   ]
  },
  {
   "cell_type": "code",
   "execution_count": 88,
   "metadata": {},
   "outputs": [
    {
     "name": "stdout",
     "output_type": "stream",
     "text": [
      "10,20 "
     ]
    }
   ],
   "source": [
    "print(10,20,end = \" \",sep = \",\")"
   ]
  },
  {
   "cell_type": "code",
   "execution_count": null,
   "metadata": {},
   "outputs": [],
   "source": [
    "-for loop syntax\n",
    " for var in [iterable datatype]:\n",
    "-range(100,500)100 499\n",
    "-range(100,500,100) 100 2200 300 400\n",
    "-enumerate index,value\n",
    "-pass\n",
    "-continue\n",
    "-break"
   ]
  },
  {
   "cell_type": "code",
   "execution_count": 94,
   "metadata": {},
   "outputs": [
    {
     "name": "stdout",
     "output_type": "stream",
     "text": [
      "10,20,Python hi\n"
     ]
    }
   ],
   "source": [
    "print(10,20,\"Python\",sep=\",\",end=\"\")\n",
    "print(\" hi\")"
   ]
  },
  {
   "cell_type": "code",
   "execution_count": null,
   "metadata": {},
   "outputs": [],
   "source": [
    "while condition => True/False\n",
    "    statements"
   ]
  },
  {
   "cell_type": "code",
   "execution_count": 18,
   "metadata": {},
   "outputs": [
    {
     "name": "stdout",
     "output_type": "stream",
     "text": [
      "120\n",
      "1\n"
     ]
    }
   ],
   "source": [
    "n1=5\n",
    "result=1\n",
    "while n1>1:\n",
    "    result=result*n1\n",
    "    n1=n1-1\n",
    "print(result)\n",
    "print(n1)"
   ]
  },
  {
   "cell_type": "code",
   "execution_count": 98,
   "metadata": {},
   "outputs": [
    {
     "name": "stdout",
     "output_type": "stream",
     "text": [
      "statement get executed\n",
      "1\n",
      "statement get executed\n",
      "3\n",
      "statement get executed\n",
      "6\n",
      "statement get executed\n",
      "10\n",
      "statement get executed\n",
      "15\n",
      "statement get executed\n",
      "21\n",
      "statement get executed\n",
      "28\n",
      "statement get executed\n",
      "36\n",
      "statement get executed\n",
      "45\n",
      "statement get executed\n",
      "55\n",
      "statement get executed\n",
      "66\n",
      "statement get executed\n",
      "78\n",
      "statement get executed\n",
      "91\n"
     ]
    }
   ],
   "source": [
    "count=1\n",
    "sum=0\n",
    "while count<=20:\n",
    "    sum=sum+count\n",
    "    count=count+1\n",
    "    if count ==15:\n",
    "        break\n",
    "    else:\n",
    "        print(\"statement get executed\")\n",
    "    print(sum)"
   ]
  },
  {
   "cell_type": "code",
   "execution_count": null,
   "metadata": {},
   "outputs": [],
   "source": []
  }
 ],
 "metadata": {
  "kernelspec": {
   "display_name": "Python 3",
   "language": "python",
   "name": "python3"
  },
  "language_info": {
   "codemirror_mode": {
    "name": "ipython",
    "version": 3
   },
   "file_extension": ".py",
   "mimetype": "text/x-python",
   "name": "python",
   "nbconvert_exporter": "python",
   "pygments_lexer": "ipython3",
   "version": "3.7.4"
  }
 },
 "nbformat": 4,
 "nbformat_minor": 2
}
