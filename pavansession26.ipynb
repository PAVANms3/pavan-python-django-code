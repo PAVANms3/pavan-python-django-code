{
 "cells": [
  {
   "cell_type": "code",
   "execution_count": null,
   "metadata": {},
   "outputs": [],
   "source": [
    "                            Iterators Generators Decorators"
   ]
  },
  {
   "cell_type": "code",
   "execution_count": 4,
   "metadata": {},
   "outputs": [
    {
     "name": "stdout",
     "output_type": "stream",
     "text": [
      "[100, 400, 900, 1600, 2500, 3600]\n"
     ]
    }
   ],
   "source": [
    "l = [10,20,30,40,50,60]\n",
    "m = map(lambda num1:num1 * num1,l)\n",
    "#print(next(m))\n",
    "#print(next(m))\n",
    "print(list(m))"
   ]
  },
  {
   "cell_type": "code",
   "execution_count": null,
   "metadata": {},
   "outputs": [],
   "source": [
    "Iterator :\n",
    "    \n",
    "__iter__\n",
    "__next__"
   ]
  },
  {
   "cell_type": "code",
   "execution_count": 5,
   "metadata": {},
   "outputs": [
    {
     "name": "stdout",
     "output_type": "stream",
     "text": [
      "['__add__', '__class__', '__contains__', '__delattr__', '__delitem__', '__dir__', '__doc__', '__eq__', '__format__', '__ge__', '__getattribute__', '__getitem__', '__gt__', '__hash__', '__iadd__', '__imul__', '__init__', '__init_subclass__', '__iter__', '__le__', '__len__', '__lt__', '__mul__', '__ne__', '__new__', '__reduce__', '__reduce_ex__', '__repr__', '__reversed__', '__rmul__', '__setattr__', '__setitem__', '__sizeof__', '__str__', '__subclasshook__', 'append', 'clear', 'copy', 'count', 'extend', 'index', 'insert', 'pop', 'remove', 'reverse', 'sort']\n"
     ]
    }
   ],
   "source": [
    "print(dir(list))"
   ]
  },
  {
   "cell_type": "code",
   "execution_count": 6,
   "metadata": {},
   "outputs": [
    {
     "name": "stdout",
     "output_type": "stream",
     "text": [
      "<list_iterator object at 0x000001E055D801C8>\n",
      "10\n",
      "20\n",
      "30\n",
      "40\n",
      "50\n"
     ]
    }
   ],
   "source": [
    "l = [10,20,30,40,50] \n",
    "\n",
    "i = iter(l)\n",
    "print(i)\n",
    "print(next(i))\n",
    "print(next(i))\n",
    "print(next(i))\n",
    "print(next(i))\n",
    "print(next(i))\n",
    "# print(next(i))\n",
    "# print(next(i))\n",
    "# for value in i:\n",
    "#     print(value)\n",
    "    \n",
    "# for value in i:\n",
    "#     print(value)\n",
    "\n",
    "# for index in range(5):\n",
    "#     print(next(i))\n",
    "    \n",
    "# #for value in i:\n",
    "#    # print(value)"
   ]
  },
  {
   "cell_type": "code",
   "execution_count": 13,
   "metadata": {},
   "outputs": [],
   "source": [
    "import itertools"
   ]
  },
  {
   "cell_type": "code",
   "execution_count": 14,
   "metadata": {},
   "outputs": [
    {
     "name": "stdout",
     "output_type": "stream",
     "text": [
      "10\n",
      "20\n",
      "30\n",
      "40\n",
      "50\n",
      "P\n",
      "y\n",
      "t\n",
      "h\n",
      "o\n",
      "n\n",
      ",\n",
      "J\n",
      "a\n",
      "v\n",
      "a\n",
      ",\n",
      "C\n",
      "10\n",
      "20\n",
      "30\n",
      "40\n",
      "50\n",
      "60\n",
      "0\n",
      "1\n",
      "2\n",
      "3\n",
      "4\n"
     ]
    }
   ],
   "source": [
    "l1 = [10,20,30,40,50]\n",
    "s1 = \"Python,Java,C\"\n",
    "t1 = (10,20,30,40,50,60)\n",
    "r1 = range(5)\n",
    "\n",
    "i = itertools.chain(l1,s1,t1,r1)\n",
    "print(next(i))\n",
    "print(next(i))\n",
    "for value in i:     \n",
    "    print(value)\n",
    "    \n",
    "for value in i:\n",
    "     print(value)"
   ]
  },
  {
   "cell_type": "code",
   "execution_count": 16,
   "metadata": {},
   "outputs": [
    {
     "name": "stdout",
     "output_type": "stream",
     "text": [
      "<itertools.chain object at 0x000001E055D77B88>\n",
      "30\n",
      "40\n",
      "50\n",
      "P\n"
     ]
    }
   ],
   "source": [
    "#import itertools\n",
    "l1 = [10,20,30,40,50]\n",
    "s1 = \"Python,Java,C\"\n",
    "t1 = (10,20,30,40,50,60)\n",
    "r1 = range(5)\n",
    "\n",
    "i = itertools.chain(l1,s1,t1,r1)\n",
    "print(i)\n",
    "for value in itertools.islice(i,2,6):\n",
    "    print(value)"
   ]
  },
  {
   "cell_type": "code",
   "execution_count": 17,
   "metadata": {},
   "outputs": [
    {
     "name": "stdout",
     "output_type": "stream",
     "text": [
      "10\n",
      "20\n",
      "30\n",
      "40\n",
      "50\n",
      "P\n",
      "y\n",
      "t\n",
      "h\n",
      "o\n",
      "n\n",
      ",\n",
      "J\n",
      "a\n",
      "v\n",
      "a\n",
      ",\n",
      "C\n",
      "10\n",
      "20\n",
      "30\n",
      "40\n",
      "50\n",
      "60\n",
      "0\n",
      "1\n",
      "2\n",
      "3\n",
      "4\n",
      "10\n",
      "20\n",
      "30\n",
      "40\n",
      "50\n",
      "P\n",
      "y\n",
      "t\n",
      "h\n",
      "o\n",
      "n\n",
      ",\n",
      "J\n",
      "a\n",
      "v\n",
      "a\n",
      ",\n",
      "C\n",
      "10\n",
      "20\n",
      "30\n",
      "40\n",
      "50\n",
      "60\n",
      "0\n",
      "1\n",
      "2\n",
      "3\n",
      "4\n"
     ]
    }
   ],
   "source": [
    "l1 = [10,20,30,40,50]\n",
    "s1 = \"Python,Java,C\"\n",
    "t1 = (10,20,30,40,50,60)\n",
    "r1 = range(5)\n",
    "\n",
    "i = itertools.chain(l1,s1,t1,r1)\n",
    "print(next(i))\n",
    "print(next(i))\n",
    "for value in i:\n",
    "    print(value)\n",
    "    \n",
    "j = itertools.chain(l1,s1,t1,r1)\n",
    "for value in j:\n",
    "    print(value)"
   ]
  },
  {
   "cell_type": "code",
   "execution_count": 18,
   "metadata": {},
   "outputs": [
    {
     "name": "stdout",
     "output_type": "stream",
     "text": [
      "(<itertools._tee object at 0x000001E055D6CE08>, <itertools._tee object at 0x000001E055D6CD88>, <itertools._tee object at 0x000001E055D6C3C8>, <itertools._tee object at 0x000001E055D6C348>, <itertools._tee object at 0x000001E055D6C488>)\n",
      "10\n",
      "20\n",
      "30\n",
      "40\n",
      "50\n",
      "P\n",
      "y\n",
      "t\n",
      "h\n",
      "o\n",
      "n\n",
      ",\n",
      "J\n",
      "a\n",
      "v\n",
      "a\n",
      ",\n",
      "C\n",
      "10\n",
      "20\n",
      "30\n",
      "40\n",
      "50\n",
      "60\n",
      "0\n",
      "1\n",
      "2\n",
      "3\n",
      "4\n",
      "10\n",
      "20\n",
      "30\n",
      "40\n",
      "50\n",
      "P\n",
      "y\n",
      "t\n",
      "h\n",
      "o\n",
      "n\n",
      ",\n",
      "J\n",
      "a\n",
      "v\n",
      "a\n",
      ",\n",
      "C\n",
      "10\n",
      "20\n",
      "30\n",
      "40\n",
      "50\n",
      "60\n",
      "0\n",
      "1\n",
      "2\n",
      "3\n",
      "4\n"
     ]
    }
   ],
   "source": [
    "l1 = [10,20,30,40,50]\n",
    "s1 = \"Python,Java,C\"\n",
    "t1 = (10,20,30,40,50,60)\n",
    "r1 = range(5)\n",
    "\n",
    "i = itertools.chain(l1,s1,t1,r1)\n",
    "t = itertools.tee(i,5)\n",
    "print(t)\n",
    "\n",
    "for value in t[0]:\n",
    "    print(value)\n",
    "    \n",
    "for value in t[1]:\n",
    "    print(value)"
   ]
  },
  {
   "cell_type": "code",
   "execution_count": 19,
   "metadata": {},
   "outputs": [
    {
     "name": "stdout",
     "output_type": "stream",
     "text": [
      "<itertools.permutations object at 0x000001E055D86A68>\n",
      "(10, 20, 30, 40)\n"
     ]
    }
   ],
   "source": [
    "l = [10,20,30,40,50]\n",
    "i = itertools.permutations(l,4)\n",
    "print(i)\n",
    "print(next(i))\n",
    "# for value in i:\n",
    "#     print(value)"
   ]
  },
  {
   "cell_type": "code",
   "execution_count": 20,
   "metadata": {},
   "outputs": [
    {
     "name": "stdout",
     "output_type": "stream",
     "text": [
      "10\n",
      "20\n",
      "30\n",
      "40\n",
      "50\n",
      "10\n",
      "20\n",
      "30\n",
      "210\n"
     ]
    }
   ],
   "source": [
    "l = [10,20,30,40,50]\n",
    "i = itertools.cycle(l)\n",
    "sum = 0 \n",
    "for value in i:\n",
    "    print(value)\n",
    "    sum = sum + value\n",
    "    if sum > 200:\n",
    "        print(sum)\n",
    "        break"
   ]
  },
  {
   "cell_type": "code",
   "execution_count": 22,
   "metadata": {},
   "outputs": [
    {
     "name": "stdout",
     "output_type": "stream",
     "text": [
      "[10, 20, 30, 40, 50]\n",
      "[10, 20, 30, 40, 50]\n",
      "[10, 20, 30, 40, 50]\n",
      "[10, 20, 30, 40, 50]\n",
      "[10, 20, 30, 40, 50]\n",
      "[10, 20, 30, 40, 50]\n",
      "6\n"
     ]
    }
   ],
   "source": [
    "l = [10,20,30,40,50]\n",
    "i = itertools.repeat(l)\n",
    "count = 0 \n",
    "for value in i:\n",
    "    print(value)\n",
    "    count+=1\n",
    "   \n",
    "    if count > 5:\n",
    "        print(count)\n",
    "        break"
   ]
  },
  {
   "cell_type": "code",
   "execution_count": 24,
   "metadata": {},
   "outputs": [
    {
     "name": "stdout",
     "output_type": "stream",
     "text": [
      "5\n",
      "7\n",
      "9\n",
      "11\n",
      "13\n",
      "15\n",
      "17\n",
      "19\n",
      "21\n",
      "23\n",
      "25\n"
     ]
    }
   ],
   "source": [
    "import itertools\n",
    "count = 0\n",
    "for value in itertools.count(5,2):\n",
    "    print(value)\n",
    "    count+=1\n",
    "    if count > 10:\n",
    "        break"
   ]
  },
  {
   "cell_type": "code",
   "execution_count": null,
   "metadata": {},
   "outputs": [],
   "source": [
    "list()\n",
    "for\n",
    "next()"
   ]
  },
  {
   "cell_type": "code",
   "execution_count": null,
   "metadata": {},
   "outputs": [],
   "source": [
    "chain \n",
    "islice \n",
    "repeat \n",
    "cycle \n",
    "permutations\n",
    "combinations\n",
    "count"
   ]
  },
  {
   "cell_type": "code",
   "execution_count": 28,
   "metadata": {},
   "outputs": [
    {
     "name": "stdout",
     "output_type": "stream",
     "text": [
      "60\n"
     ]
    },
    {
     "ename": "NameError",
     "evalue": "name 'num1' is not defined",
     "output_type": "error",
     "traceback": [
      "\u001b[1;31m---------------------------------------------------------------------------\u001b[0m",
      "\u001b[1;31mNameError\u001b[0m                                 Traceback (most recent call last)",
      "\u001b[1;32m<ipython-input-28-93436b8a8398>\u001b[0m in \u001b[0;36m<module>\u001b[1;34m\u001b[0m\n\u001b[0;32m      6\u001b[0m \u001b[1;33m\u001b[0m\u001b[0m\n\u001b[0;32m      7\u001b[0m \u001b[0mprint\u001b[0m\u001b[1;33m(\u001b[0m\u001b[0madd\u001b[0m\u001b[1;33m(\u001b[0m\u001b[1;36m10\u001b[0m\u001b[1;33m,\u001b[0m\u001b[1;36m20\u001b[0m\u001b[1;33m)\u001b[0m\u001b[1;33m)\u001b[0m\u001b[1;33m\u001b[0m\u001b[1;33m\u001b[0m\u001b[0m\n\u001b[1;32m----> 8\u001b[1;33m \u001b[0mprint\u001b[0m\u001b[1;33m(\u001b[0m\u001b[0mnum1\u001b[0m\u001b[1;33m)\u001b[0m\u001b[1;33m\u001b[0m\u001b[1;33m\u001b[0m\u001b[0m\n\u001b[0m\u001b[0;32m      9\u001b[0m \u001b[0mprint\u001b[0m\u001b[1;33m(\u001b[0m\u001b[0mnum2\u001b[0m\u001b[1;33m)\u001b[0m\u001b[1;33m\u001b[0m\u001b[1;33m\u001b[0m\u001b[0m\n",
      "\u001b[1;31mNameError\u001b[0m: name 'num1' is not defined"
     ]
    }
   ],
   "source": [
    "def add(num1,num2):\n",
    "    num3 = 100\n",
    "    num1 = num1 *2\n",
    "    num2 = num2 * 2\n",
    "    return num1 + num2\n",
    "\n",
    "print(add(10,20))\n",
    "print(num1)\n",
    "print(num2)"
   ]
  },
  {
   "cell_type": "code",
   "execution_count": null,
   "metadata": {},
   "outputs": [],
   "source": [
    "generators : func iterators"
   ]
  },
  {
   "cell_type": "code",
   "execution_count": null,
   "metadata": {},
   "outputs": [],
   "source": [
    "first_num = 0\n",
    "sec_num = 1 \n",
    "next_val = first_num + sec_num\n",
    "\n",
    "0,1 => 0+1 =1\n",
    "\n",
    "first_num = 1 \n",
    "sec_num = 1 \n",
    "next_val = 2"
   ]
  },
  {
   "cell_type": "code",
   "execution_count": 2,
   "metadata": {},
   "outputs": [
    {
     "name": "stdout",
     "output_type": "stream",
     "text": [
      "<generator object fibo at 0x0000029F387ACC48>\n",
      "0\n",
      "1\n",
      "1\n",
      "2\n"
     ]
    }
   ],
   "source": [
    "def fibo():\n",
    "    num1 = 0\n",
    "    yield num1\n",
    "    num2 = 1\n",
    "    yield num2\n",
    "    \n",
    "    while True:\n",
    "        next_num = num1 + num2\n",
    "        yield next_num\n",
    "        num1,num2 = num2,next_num\n",
    "        \n",
    "g = fibo()\n",
    "print(g)\n",
    "print(next(g))  \n",
    "print(next(g)) \n",
    "print(next(g)) \n",
    "print(next(g))"
   ]
  },
  {
   "cell_type": "code",
   "execution_count": 3,
   "metadata": {},
   "outputs": [
    {
     "name": "stdout",
     "output_type": "stream",
     "text": [
      "<generator object fibo at 0x0000029F387ACCC8>\n",
      "[0, 1, 1, 2, 3]\n",
      "[5, 8, 13, 21, 34]\n"
     ]
    }
   ],
   "source": [
    "def fibo():\n",
    "    l = []\n",
    "    num1 = 0\n",
    "    num2 = 1\n",
    "    \n",
    "    l.append(num1)\n",
    "    l.append(num2)\n",
    "    \n",
    "    count = 2\n",
    "    while True:\n",
    "        next_num = num1 + num2\n",
    "        l.append(next_num)\n",
    "        count+=1\n",
    "        \n",
    "        if count == 5:\n",
    "            yield l\n",
    "            l = []\n",
    "            count = 0\n",
    "        num1,num2 = num2,next_num\n",
    "        \n",
    "g = fibo()\n",
    "print(g)\n",
    "print(next(g))  \n",
    "print(next(g))"
   ]
  },
  {
   "cell_type": "code",
   "execution_count": 5,
   "metadata": {},
   "outputs": [
    {
     "name": "stdout",
     "output_type": "stream",
     "text": [
      "<generator object get_file_name at 0x0000029F38864A48>\n",
      "Sample text file line1\n",
      "Sample text file line2\n",
      "Sample text file line3\n",
      "Sample text file line4\n",
      "Sample text file line5\n",
      "Sample text file line6\n",
      "Sample text file line7\n",
      "Sample text file line8\n",
      "\n",
      "sample1.txt\n"
     ]
    }
   ],
   "source": [
    "def get_file_name():\n",
    "    files = [\"sample.text\",\"sample1.txt\",\"sample3.txt\"]\n",
    "    for file in files:\n",
    "        yield file\n",
    "\n",
    "def read_file(filename):\n",
    "    fp = open(filename,\"r\")\n",
    "    print(fp.read())\n",
    "g = get_file_name()\n",
    "print(g)\n",
    "read_file(next(g))\n",
    "print(next(g))"
   ]
  },
  {
   "cell_type": "code",
   "execution_count": 6,
   "metadata": {},
   "outputs": [
    {
     "name": "stdout",
     "output_type": "stream",
     "text": [
      "100\n"
     ]
    }
   ],
   "source": [
    "l = [10,20,30,40,50,60]\n",
    "l2 = (value * value for value in l)\n",
    "\n",
    "# print(list(l2))\n",
    "print(next(l2))\n",
    "# print(next(l2))\n",
    "# for value in l2:\n",
    "#     print(value)"
   ]
  },
  {
   "cell_type": "code",
   "execution_count": null,
   "metadata": {},
   "outputs": [],
   "source": [
    "Decorators : a func which takes a func as an arg and return a new func"
   ]
  },
  {
   "cell_type": "code",
   "execution_count": null,
   "metadata": {},
   "outputs": [],
   "source": [
    "@classmethod"
   ]
  },
  {
   "cell_type": "code",
   "execution_count": 7,
   "metadata": {},
   "outputs": [
    {
     "name": "stdout",
     "output_type": "stream",
     "text": [
      "30\n",
      "PythonJava\n",
      "10Python\n"
     ]
    }
   ],
   "source": [
    "def add_deco(func):\n",
    "    def new_func(val1,val2):\n",
    "        if type(val1) == type(val2):\n",
    "            return func(val1,val2)\n",
    "        else:\n",
    "            return func(str(val1),str(val2))      \n",
    "        \n",
    "    \n",
    "    return new_func\n",
    "\n",
    "@add_deco\n",
    "def add(val1,val2):\n",
    "    return val1 + val2\n",
    "\n",
    "print(add(10,20))\n",
    "print(add(\"Python\",\"Java\"))\n",
    "print(add(10,\"Python\"))"
   ]
  },
  {
   "cell_type": "code",
   "execution_count": 19,
   "metadata": {},
   "outputs": [],
   "source": [
    "#print(add(10,20)) > Deco \n",
    "def add_deco(add):\n",
    "    \n",
    "    def new_func(val1,val2):\n",
    "            \n",
    "        return new_func > 2"
   ]
  },
  {
   "cell_type": "code",
   "execution_count": null,
   "metadata": {},
   "outputs": [],
   "source": []
  }
 ],
 "metadata": {
  "kernelspec": {
   "display_name": "Python 3",
   "language": "python",
   "name": "python3"
  },
  "language_info": {
   "codemirror_mode": {
    "name": "ipython",
    "version": 3
   },
   "file_extension": ".py",
   "mimetype": "text/x-python",
   "name": "python",
   "nbconvert_exporter": "python",
   "pygments_lexer": "ipython3",
   "version": "3.7.4"
  }
 },
 "nbformat": 4,
 "nbformat_minor": 2
}
