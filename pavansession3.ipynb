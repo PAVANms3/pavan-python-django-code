{
 "cells": [
  {
   "cell_type": "code",
   "execution_count": null,
   "metadata": {},
   "outputs": [],
   "source": [
    "#Conditional statements \n",
    "if \n",
    "elif\n",
    "else"
   ]
  },
  {
   "cell_type": "code",
   "execution_count": 90,
   "metadata": {},
   "outputs": [],
   "source": [
    "if [condition] :\n",
    "    print(\"statement\")\n",
    "elif [condition] :\n",
    "    print(\"statement\")\n",
    "else :\n",
    "    print(\"statement\")"
   ]
  },
  {
   "cell_type": "code",
   "execution_count": null,
   "metadata": {},
   "outputs": [],
   "source": [
    "n1 = 150\n",
    "n2 = 100\n",
    "# possibilities are greater lesser or equal\n",
    "if [condition ] => True/False :\n",
    "    print(\"n1 is greater\")"
   ]
  },
  {
   "cell_type": "code",
   "execution_count": 1,
   "metadata": {},
   "outputs": [
    {
     "name": "stdout",
     "output_type": "stream",
     "text": [
      "both are in equal\n"
     ]
    }
   ],
   "source": [
    "n1 = 150\n",
    "n2 = 150\n",
    "\n",
    "if n1 > n2 :\n",
    "    print(\"n1 is greater than n2\")\n",
    "elif n1 < n2 :\n",
    "    print(\"n2 is greater than n1\")\n",
    "else :\n",
    "    print(\"both are in equal\")"
   ]
  },
  {
   "cell_type": "code",
   "execution_count": 9,
   "metadata": {},
   "outputs": [
    {
     "name": "stdout",
     "output_type": "stream",
     "text": [
      "consonent\n"
     ]
    }
   ],
   "source": [
    "#char = \"y\"\n",
    "#to check \"vowel/consonenet\"\n",
    "if \"ae\"  in \"aeiou\":\n",
    "    print(\" vowel\")\n",
    "else :\n",
    "    print(\"consonent\")"
   ]
  },
  {
   "cell_type": "code",
   "execution_count": 11,
   "metadata": {},
   "outputs": [
    {
     "name": "stdout",
     "output_type": "stream",
     "text": [
      "its a non zero value True\n"
     ]
    }
   ],
   "source": [
    "\n",
    "if 0:\n",
    "    print(\"its a 0 value False\")\n",
    "else :\n",
    "    print(\"its a non zero value True\")\n",
    "                        #Any non zero value is True in python\n",
    "                        #Any zero value is False 0,None,\"\",[],{},()"
   ]
  },
  {
   "cell_type": "code",
   "execution_count": 35,
   "metadata": {},
   "outputs": [
    {
     "name": "stdout",
     "output_type": "stream",
     "text": [
      "4\n"
     ]
    }
   ],
   "source": [
    " #finding lenth of data\n",
    "l=[1,2,34,4]\n",
    "print(len(l))"
   ]
  },
  {
   "cell_type": "code",
   "execution_count": 14,
   "metadata": {},
   "outputs": [
    {
     "name": "stdout",
     "output_type": "stream",
     "text": [
      "[1, 2, 34, 4] 4 485942039240 <class 'list'>\n",
      "list is full\n"
     ]
    }
   ],
   "source": [
    "l=[1,2,34,4]\n",
    "print(l,len(l),id(l),type(l))\n",
    "if len(l) > 0 :\n",
    "    print(\"list is full\")\n",
    "else :\n",
    "    print(\"list is empty\")"
   ]
  },
  {
   "cell_type": "code",
   "execution_count": 56,
   "metadata": {},
   "outputs": [
    {
     "name": "stdout",
     "output_type": "stream",
     "text": [
      "50.0\n",
      "candidate is pass\n"
     ]
    }
   ],
   "source": [
    "#just to check the candidate is pass or fail\n",
    "#Pass/Fail\n",
    "#Passing % = 40\n",
    "marks_obtained = 250\n",
    "total = 500\n",
    "\n",
    "percentage =(marks_obtained/total)*100\n",
    "print(percentage)\n",
    "    \n",
    "if percentage >= 40 :\n",
    "        print (\"candidate is pass\")\n",
    "else :\n",
    "        print (\" candidate is fail\")"
   ]
  },
  {
   "cell_type": "code",
   "execution_count": 20,
   "metadata": {},
   "outputs": [
    {
     "name": "stdout",
     "output_type": "stream",
     "text": [
      "12\n",
      "odd\n"
     ]
    }
   ],
   "source": [
    "# just to verify the given number is even or odd\n",
    "\n",
    "n1=24\n",
    "a=n1 // 2\n",
    "print(a)\n",
    "if a==2 :\n",
    "    print (\"even\")\n",
    "else :\n",
    "    print (\"odd\")\n",
    "                    #  % Modulus which divides two operands and gives the remainder.                     "
   ]
  },
  {
   "cell_type": "code",
   "execution_count": null,
   "metadata": {},
   "outputs": [],
   "source": [
    "currencies = 2000,500,200,100,10\n",
    "amount = 4570"
   ]
  },
  {
   "cell_type": "code",
   "execution_count": 69,
   "metadata": {},
   "outputs": [
    {
     "name": "stdout",
     "output_type": "stream",
     "text": [
      "notes of 2000 are  2\n",
      "notes of 500 are  1\n",
      "can not isuue notes of 200\n",
      "can not isuue notes of 100\n",
      "notes of 50 are  1\n",
      "notes of 10 are  2\n"
     ]
    }
   ],
   "source": [
    "amount = 4570\n",
    "if amount >= 2000 :\n",
    "    print(\"notes of 2000 are \",amount // 2000)\n",
    "    amount = amount % 2000\n",
    "else :\n",
    "    print(\"can not isuue notes of 2000\")\n",
    "if amount >= 500 :\n",
    "    print(\"notes of 500 are \",amount // 500)\n",
    "    amount = amount % 500\n",
    "else :\n",
    "    print(\"can not isuue notes of 500\")\n",
    "if amount >= 200 :\n",
    "    print(\"notes of 200 are \",amount // 200)\n",
    "    amount = amount % 200\n",
    "else :\n",
    "    print(\"can not isuue notes of 200\")\n",
    "if amount >= 100 :\n",
    "    print(\"notes of 100 are \",amount // 100)\n",
    "    amount = amount % 100\n",
    "else :\n",
    "    print(\"can not isuue notes of 100\")\n",
    "if amount >= 50 :\n",
    "    print(\"notes of 50 are \",amount // 50)\n",
    "    amount = amount % 50\n",
    "else :\n",
    "    print(\"can not isuue notes of 50\")\n",
    "if amount >= 10 :\n",
    "    print(\"notes of 10 are \",amount // 10)\n",
    "    amount = amount % 10\n",
    "else :\n",
    "    print(\"can not isuue notes of 10\")"
   ]
  },
  {
   "cell_type": "code",
   "execution_count": 76,
   "metadata": {},
   "outputs": [],
   "source": [
    "rating = (1- 5)\n",
    "tip % of total bill\n",
    "    1 10\n",
    "    2 20\n",
    "    3 30\n",
    "    4 40\n",
    "    5 50"
   ]
  },
  {
   "cell_type": "code",
   "execution_count": 85,
   "metadata": {},
   "outputs": [
    {
     "name": "stdout",
     "output_type": "stream",
     "text": [
      "40\n",
      "1040\n"
     ]
    }
   ],
   "source": [
    "rating =4\n",
    "bill_amount = 1000\n",
    "tip = rating * 10\n",
    "total_amount = bill_amount + tip\n",
    "print(tip)\n",
    "print(total_amount)"
   ]
  },
  {
   "cell_type": "code",
   "execution_count": 88,
   "metadata": {},
   "outputs": [
    {
     "name": "stdout",
     "output_type": "stream",
     "text": [
      "java\n"
     ]
    }
   ],
   "source": [
    "if \"python\" :\n",
    "    print(\"java\")\n",
    "else :\n",
    "    print(\"nothing\")"
   ]
  },
  {
   "cell_type": "code",
   "execution_count": null,
   "metadata": {},
   "outputs": [],
   "source": [
    "0 False None \"\" [] {} ()"
   ]
  }
 ],
 "metadata": {
  "kernelspec": {
   "display_name": "Python 3",
   "language": "python",
   "name": "python3"
  },
  "language_info": {
   "codemirror_mode": {
    "name": "ipython",
    "version": 3
   },
   "file_extension": ".py",
   "mimetype": "text/x-python",
   "name": "python",
   "nbconvert_exporter": "python",
   "pygments_lexer": "ipython3",
   "version": "3.7.4"
  }
 },
 "nbformat": 4,
 "nbformat_minor": 2
}
