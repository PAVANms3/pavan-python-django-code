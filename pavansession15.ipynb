{
 "cells": [
  {
   "cell_type": "code",
   "execution_count": null,
   "metadata": {},
   "outputs": [],
   "source": [
    "-positional\n",
    "-default\n",
    "-keyword\n",
    "-variable positional\n",
    "-variable keyword"
   ]
  },
  {
   "cell_type": "code",
   "execution_count": null,
   "metadata": {},
   "outputs": [],
   "source": [
    "from import\n",
    "import pk1.pkg2 import mod1.func/class\n",
    "import pk1.mod"
   ]
  },
  {
   "cell_type": "code",
   "execution_count": null,
   "metadata": {},
   "outputs": [],
   "source": [
    "\"\"\" doc_string\"\"\"\n",
    "\n",
    "def add():\n",
    "    \"\"\" func description\"\"\"\n",
    "    "
   ]
  },
  {
   "cell_type": "code",
   "execution_count": null,
   "metadata": {},
   "outputs": [],
   "source": [
    "__name__='__main__'"
   ]
  },
  {
   "cell_type": "code",
   "execution_count": null,
   "metadata": {},
   "outputs": [],
   "source": [
    "if__name__='__main__'"
   ]
  },
  {
   "cell_type": "code",
   "execution_count": null,
   "metadata": {},
   "outputs": [],
   "source": [
    "l=[1,2,]\n",
    "l.remove(2)=>value\n",
    "l.pop(2)=>index"
   ]
  },
  {
   "cell_type": "code",
   "execution_count": null,
   "metadata": {},
   "outputs": [],
   "source": [
    "d={}\n",
    "l=[10,20,30]\n",
    "d={[10,20,30]:3}"
   ]
  },
  {
   "cell_type": "code",
   "execution_count": null,
   "metadata": {},
   "outputs": [],
   "source": [
    "-all the keys should be unique\n",
    "-all the keys should be immutable"
   ]
  },
  {
   "cell_type": "code",
   "execution_count": 1,
   "metadata": {},
   "outputs": [
    {
     "name": "stdout",
     "output_type": "stream",
     "text": [
      "[10, 20, 30]\n"
     ]
    }
   ],
   "source": [
    "l1=[10,20,30]\n",
    "l2=list(l1)\n",
    "print(l2)"
   ]
  },
  {
   "cell_type": "code",
   "execution_count": null,
   "metadata": {},
   "outputs": [],
   "source": [
    "File Operations : TXT file"
   ]
  },
  {
   "cell_type": "code",
   "execution_count": null,
   "metadata": {},
   "outputs": [],
   "source": [
    "Differnet modes :\n",
    "    r : read\n",
    "    r+ :read + write\n",
    "        \n",
    "    w : write\n",
    "    w+ :write + read\n",
    "        \n",
    "    a : append\n",
    "    a+"
   ]
  },
  {
   "cell_type": "code",
   "execution_count": 10,
   "metadata": {},
   "outputs": [
    {
     "name": "stdout",
     "output_type": "stream",
     "text": [
      "Sample text file line1\n",
      "Sample text file line2\n",
      "Sample text file line3\n",
      "Sample text file line4\n",
      "Sample text file line5\n",
      "Sample text file line6\n",
      "Sample text file line7\n",
      "Sample text file line8\n",
      "\n"
     ]
    }
   ],
   "source": [
    "fp = open(\"sample.text\",\"r\")\n",
    "content = fp.read()\n",
    "print(content)\n",
    "fp.close()       #sample.text is writen file saved in a folder"
   ]
  },
  {
   "cell_type": "code",
   "execution_count": 2,
   "metadata": {},
   "outputs": [
    {
     "name": "stdout",
     "output_type": "stream",
     "text": [
      "<class 'str'>\n",
      "Sample text file line1\n",
      "Sample text file line2\n",
      "Sample text file line3\n",
      "Sample text file line4\n",
      "Sample text file line5\n",
      "Sample text file line6\n",
      "Sample text file line7\n",
      "Sample text file line8\n",
      "\n"
     ]
    }
   ],
   "source": [
    "fp = open(\"sample.text\",\"r\")\n",
    "content = fp.read()\n",
    "print(type(content))\n",
    "\n",
    "#content = fp.read()\n",
    "print(content)\n",
    "\n",
    "#fp.close()       #sample.text is writen file saved in a folder"
   ]
  },
  {
   "cell_type": "code",
   "execution_count": 4,
   "metadata": {},
   "outputs": [
    {
     "name": "stdout",
     "output_type": "stream",
     "text": [
      "Sample tex\n",
      "t file line1\n",
      "Sample \n"
     ]
    }
   ],
   "source": [
    "fp = open(\"sample.text\",\"r\")\n",
    "content = fp.read(10)\n",
    "print((content))\n",
    "\n",
    "content = fp.read(20)\n",
    "print((content))\n",
    "fp.close()       #sample.text is writen file saved in a folder"
   ]
  },
  {
   "cell_type": "code",
   "execution_count": 13,
   "metadata": {},
   "outputs": [
    {
     "name": "stdout",
     "output_type": "stream",
     "text": [
      "Sample text file line1\n",
      "\n",
      "Sample text file line2\n",
      "\n"
     ]
    }
   ],
   "source": [
    "fp = open(\"sample.text\",\"r\")\n",
    "content = fp.readline()\n",
    "print((content))\n",
    "content = fp.readline()\n",
    "print((content))\n",
    "\n",
    "fp.close()       #sample.text is writen file saved in a folder"
   ]
  },
  {
   "cell_type": "code",
   "execution_count": 12,
   "metadata": {},
   "outputs": [
    {
     "name": "stdout",
     "output_type": "stream",
     "text": [
      "['Sample text file line2\\n', 'Sample text file line3\\n', 'Sample text file line4\\n', 'Sample text file line5\\n', 'Sample text file line6\\n', 'Sample text file line7\\n', 'Sample text file line8\\n']\n"
     ]
    }
   ],
   "source": [
    "fp = open(\"sample.text\",\"r\")\n",
    "content = fp.readlines()\n",
    "print((content[1:]))\n",
    "\n",
    "fp.close()       #sample.text is writen file saved in a folder"
   ]
  },
  {
   "cell_type": "code",
   "execution_count": 18,
   "metadata": {},
   "outputs": [
    {
     "name": "stdout",
     "output_type": "stream",
     "text": [
      "Sample text file line1\n",
      "\n",
      "Sample text file line2\n",
      "\n",
      "Sample text file line3\n",
      "\n",
      "Sample text file line4\n",
      "\n",
      "Sample text file line5\n",
      "\n",
      "Sample text file line6\n",
      "\n",
      "Sample text file line7\n",
      "\n",
      "Sample text file line8\n",
      "\n",
      "<_io.TextIOWrapper name='sample.text' mode='r' encoding='cp1252'>\n"
     ]
    },
    {
     "ename": "StopIteration",
     "evalue": "",
     "output_type": "error",
     "traceback": [
      "\u001b[1;31m---------------------------------------------------------------------------\u001b[0m",
      "\u001b[1;31mStopIteration\u001b[0m                             Traceback (most recent call last)",
      "\u001b[1;32m<ipython-input-18-9f9a309da99c>\u001b[0m in \u001b[0;36m<module>\u001b[1;34m\u001b[0m\n\u001b[0;32m      4\u001b[0m     \u001b[0mprint\u001b[0m\u001b[1;33m(\u001b[0m\u001b[0mx\u001b[0m\u001b[1;33m)\u001b[0m\u001b[1;33m\u001b[0m\u001b[1;33m\u001b[0m\u001b[0m\n\u001b[0;32m      5\u001b[0m \u001b[0mprint\u001b[0m\u001b[1;33m(\u001b[0m\u001b[0mfp\u001b[0m\u001b[1;33m)\u001b[0m\u001b[1;33m\u001b[0m\u001b[1;33m\u001b[0m\u001b[0m\n\u001b[1;32m----> 6\u001b[1;33m \u001b[0mprint\u001b[0m\u001b[1;33m(\u001b[0m\u001b[0mnext\u001b[0m\u001b[1;33m(\u001b[0m\u001b[0mfp\u001b[0m\u001b[1;33m)\u001b[0m\u001b[1;33m)\u001b[0m\u001b[1;33m\u001b[0m\u001b[1;33m\u001b[0m\u001b[0m\n\u001b[0m\u001b[0;32m      7\u001b[0m \u001b[0mfp\u001b[0m\u001b[1;33m.\u001b[0m\u001b[0mclose\u001b[0m\u001b[1;33m(\u001b[0m\u001b[1;33m)\u001b[0m\u001b[1;33m\u001b[0m\u001b[1;33m\u001b[0m\u001b[0m\n",
      "\u001b[1;31mStopIteration\u001b[0m: "
     ]
    }
   ],
   "source": [
    "fp = open(\"sample.text\",\"r\")\n",
    "\n",
    "for x in fp:\n",
    "    print(x)\n",
    "print(fp)\n",
    "print(next(fp))\n",
    "fp.close()"
   ]
  },
  {
   "cell_type": "code",
   "execution_count": 1,
   "metadata": {},
   "outputs": [
    {
     "data": {
      "text/plain": [
       "34"
      ]
     },
     "execution_count": 1,
     "metadata": {},
     "output_type": "execute_result"
    }
   ],
   "source": [
    "fp=open(\"sample2.text\",\"w\")\n",
    "fp.write(\"Add this line to file sample2.text\")\n",
    "#fp.close()"
   ]
  },
  {
   "cell_type": "code",
   "execution_count": 2,
   "metadata": {},
   "outputs": [
    {
     "ename": "UnsupportedOperation",
     "evalue": "not readable",
     "output_type": "error",
     "traceback": [
      "\u001b[1;31m---------------------------------------------------------------------------\u001b[0m",
      "\u001b[1;31mUnsupportedOperation\u001b[0m                      Traceback (most recent call last)",
      "\u001b[1;32m<ipython-input-2-dc98b957819b>\u001b[0m in \u001b[0;36m<module>\u001b[1;34m\u001b[0m\n\u001b[0;32m      1\u001b[0m \u001b[0mfp\u001b[0m\u001b[1;33m=\u001b[0m\u001b[0mopen\u001b[0m\u001b[1;33m(\u001b[0m\u001b[1;34m\"sample2.text\"\u001b[0m\u001b[1;33m,\u001b[0m\u001b[1;34m\"w\"\u001b[0m\u001b[1;33m)\u001b[0m\u001b[1;33m\u001b[0m\u001b[1;33m\u001b[0m\u001b[0m\n\u001b[0;32m      2\u001b[0m \u001b[0mfp\u001b[0m\u001b[1;33m.\u001b[0m\u001b[0mwrite\u001b[0m\u001b[1;33m(\u001b[0m\u001b[1;34m\"trying to write a new contentsample2.text\"\u001b[0m\u001b[1;33m)\u001b[0m\u001b[1;33m\u001b[0m\u001b[1;33m\u001b[0m\u001b[0m\n\u001b[1;32m----> 3\u001b[1;33m \u001b[0mr\u001b[0m\u001b[1;33m=\u001b[0m\u001b[0mfp\u001b[0m\u001b[1;33m.\u001b[0m\u001b[0mread\u001b[0m\u001b[1;33m(\u001b[0m\u001b[1;33m)\u001b[0m\u001b[1;33m\u001b[0m\u001b[1;33m\u001b[0m\u001b[0m\n\u001b[0m\u001b[0;32m      4\u001b[0m \u001b[0mprint\u001b[0m\u001b[1;33m(\u001b[0m\u001b[0mr\u001b[0m\u001b[1;33m)\u001b[0m\u001b[1;33m\u001b[0m\u001b[1;33m\u001b[0m\u001b[0m\n\u001b[0;32m      5\u001b[0m \u001b[0mfp\u001b[0m\u001b[1;33m.\u001b[0m\u001b[0mclose\u001b[0m\u001b[1;33m(\u001b[0m\u001b[1;33m)\u001b[0m \u001b[1;31m#in this we can not use read and write operations\u001b[0m\u001b[1;33m\u001b[0m\u001b[1;33m\u001b[0m\u001b[0m\n",
      "\u001b[1;31mUnsupportedOperation\u001b[0m: not readable"
     ]
    }
   ],
   "source": [
    "fp=open(\"sample2.text\",\"w\")\n",
    "fp.write(\"trying to write a new contentsample2.text\")\n",
    "r=fp.read()\n",
    "print(r)\n",
    "fp.close() #in this we can not use read and write operations"
   ]
  },
  {
   "cell_type": "code",
   "execution_count": 4,
   "metadata": {},
   "outputs": [
    {
     "name": "stdout",
     "output_type": "stream",
     "text": [
      "\n"
     ]
    }
   ],
   "source": [
    "fp=open(\"sample2.text\",\"w+\")\n",
    "fp.write(\"trying to write a new contentsample2.text\")\n",
    "r=fp.read()\n",
    "print(r)\n",
    "fp.close() #in this we can not use read and write operations"
   ]
  },
  {
   "cell_type": "code",
   "execution_count": null,
   "metadata": {},
   "outputs": [],
   "source": [
    "tell(): current fp position\n",
    "seek(): to chnage the fp position"
   ]
  },
  {
   "cell_type": "code",
   "execution_count": 6,
   "metadata": {},
   "outputs": [
    {
     "name": "stdout",
     "output_type": "stream",
     "text": [
      "0\n",
      "41\n",
      "41\n",
      "\n"
     ]
    }
   ],
   "source": [
    "fp=open(\"sample2.text\",\"w+\")\n",
    "print(fp.tell())\n",
    "fp.write(\"trying to write a new contentsample2.text\")\n",
    "print(fp.tell())\n",
    "r=fp.read()\n",
    "print(fp.tell())\n",
    "\n",
    "print(r)\n",
    "fp.close() #in this we can not use read and write operations"
   ]
  },
  {
   "cell_type": "code",
   "execution_count": null,
   "metadata": {},
   "outputs": [],
   "source": [
    "tell(): current fp position\n",
    "seek(): to chnage the fp position offset ,positions\n",
    "    \n",
    "            0: start of the file\n",
    "            1:current positions\n",
    "            2:end of the file\n",
    "offset : how many char\n",
    "seek(15,0)\n",
    "seek(0,0) : start of the file\n",
    "seek(0,2) : end of the file\n",
    "\n",
    "seek(15,1)\n",
    "seek(15,2)"
   ]
  },
  {
   "cell_type": "code",
   "execution_count": 7,
   "metadata": {},
   "outputs": [
    {
     "name": "stdout",
     "output_type": "stream",
     "text": [
      "0\n",
      "41\n",
      "41\n",
      "trying to write a new contentsample2.text\n"
     ]
    }
   ],
   "source": [
    "fp=open(\"sample2.text\",\"w+\")\n",
    "print(fp.tell())\n",
    "fp.write(\"trying to write a new contentsample2.text\")\n",
    "print(fp.tell())\n",
    "fp.seek(0)\n",
    "r=fp.read()\n",
    "print(fp.tell())\n",
    "\n",
    "print(r)\n",
    "fp.close() #in this we can not use read and write operations"
   ]
  },
  {
   "cell_type": "code",
   "execution_count": 12,
   "metadata": {},
   "outputs": [
    {
     "name": "stdout",
     "output_type": "stream",
     "text": [
      "What’s New In Python 3.8\n",
      "Editor\n",
      "Raymond Hettinger\n",
      "\n",
      "This article explains the new features in Python 3.8, compared to 3.7. For full details, see the changelog.\n",
      "\n",
      "Python 3.8 was released on October 14th, 2019.\n",
      "\n",
      "Summary – Release highlights\n",
      "New Features\n",
      "Assignment expressions\n",
      "There is new syntax := that assigns values to variables as part of a larger expression. It is affectionately known as “the walrus operator” due to its resemblance to the eyes and tusks of a walrus.\n",
      "\n",
      "In this example, the assignment expression helps avoid calling len() twice:\n",
      "\n",
      "if (n := len(a)) > 10:\n",
      "    print(f\"List is too long ({n} elements, expected <= 10)\")\n",
      "A similar benefit arises during regular expression matching where match objects are needed twice, once to test whether a match occurred and another to extract a subgroup:\n",
      "\n",
      "discount = 0.0\n",
      "if (mo := re.search(r'(\\d+)% discount', advertisement)):\n",
      "    discount = float(mo.group(1)) / 100.0\n",
      "The operator is also useful with while-loops that compute a value to test loop termination and then need that same value again in the body of the loop:\n",
      "\n",
      "# Loop over fixed length blocks\n",
      "while (block := f.read(256)) != '':\n",
      "    process(block)\n",
      "Another motivating use case arises in list comprehensions where a value computed in a filtering condition is also needed in the expression body:\n",
      "\n",
      "[clean_name.title() for name in names\n",
      " if (clean_name := normalize('NFC', name)) in allowed_names]\n",
      "Try to limit use of the walrus operator to clean cases that reduce complexity and improve readability.\n",
      "\n",
      "See PEP 572 for a full description.\n",
      "\n",
      "(Contributed by Emily Morehouse in bpo-35224.)\n",
      "\n",
      "Positional-only parameters\n",
      "There is a new function parameter syntax / to indicate that some function parameters must be specified positionally and cannot be used as keyword arguments. This is the same notation shown by help() for C functions annotated with Larry Hastings’ Argument Clinic tool.\n",
      "\n",
      "In the following example, parameters a and b are positional-only, while c or d can be positional or keyword, and e or f are required to be keywords:\n",
      "\n",
      "def f(a, b, /, c, d, *, e, f):\n",
      "    print(a, b, c, d, e, f)\n",
      "The following is a valid call:\n",
      "\n",
      "f(10, 20, 30, d=40, e=50, f=60)\n",
      "However, these are invalid calls:\n",
      "\n",
      "f(10, b=20, c=30, d=40, e=50, f=60)   # b cannot be a keyword argument\n",
      "f(10, 20, 30, 40, 50, f=60)           # e must be a keyword argument\n",
      "One use case for this notation is that it allows pure Python functions to fully emulate behaviors of existing C coded functions. For example, the built-in pow() function does not accept keyword arguments:\n",
      "\n",
      "def pow(x, y, z=None, /):\n",
      "    \"Emulate the built in pow() function\"\n",
      "    r = x ** y\n",
      "    return r if z is None else r%z\n",
      "Another use case is to preclude keyword arguments when the parameter name is not helpful. For example, the builtin len() function has the signature len(obj, /). This precludes awkward calls such as:\n",
      "\n",
      "len(obj='hello')  # The \"obj\" keyword argument impairs readability\n",
      "A further benefit of marking a parameter as positional-only is that it allows the parameter name to be changed in the future without risk of breaking client code. For example, in the statistics module, the parameter name dist may be changed in the future. This was made possible with the following function specification:\n",
      "\n",
      "def quantiles(dist, /, *, n=4, method='exclusive')\n",
      "    ...\n",
      "Since the parameters to the left of / are not exposed as possible keywords, the parameters names remain available for use in **kwargs:\n",
      "\n",
      ">>>\n",
      ">>> def f(a, b, /, **kwargs):\n",
      "...     print(a, b, kwargs)\n",
      "...\n",
      ">>> f(10, 20, a=1, b=2, c=3)         # a and b are used in two ways\n",
      "10 20 {'a': 1, 'b': 2, 'c': 3}\n",
      "This greatly simplifies the implementation of functions and methods that need to accept arbitrary keyword arguments. For example, here is an excerpt from code in the collections module:\n",
      "\n",
      "class Counter(dict):\n",
      "\n",
      "    def __init__(self, iterable=None, /, **kwds):\n",
      "        # Note \"iterable\" is a possible keyword argument\n",
      "See PEP 570 for a full description.\n",
      "\n",
      "(Contributed by Pablo Galindo in bpo-36540.)\n",
      "\n",
      "Parallel filesystem cache for compiled bytecode files\n",
      "The new PYTHONPYCACHEPREFIX setting (also available as -X pycache_prefix) configures the implicit bytecode cache to use a separate parallel filesystem tree, rather than the default __pycache__ subdirectories within each source directory.\n",
      "\n",
      "The location of the cache is reported in sys.pycache_prefix (None indicates the default location in __pycache__ subdirectories).\n",
      "\n",
      "(Contributed by Carl Meyer in bpo-33499.)\n",
      "\n",
      "Debug build uses the same ABI as release build\n",
      "Python now uses the same ABI whether it’s built in release or debug mode. On Unix, when Python is built in debug mode, it is now possible to load C extensions built in release mode and C extensions built using the stable ABI.\n",
      "\n",
      "Release builds and debug builds are now ABI compatible: defining the Py_DEBUG macro no longer implies the Py_TRACE_REFS macro, which introduces the only ABI incompatibility. The Py_TRACE_REFS macro, which adds the sys.getobjects() function and the PYTHONDUMPREFS environment variable, can be set using the new ./configure --with-trace-refs build option. (Contributed by Victor Stinner in bpo-36465.)\n",
      "\n",
      "On Unix, C extensions are no longer linked to libpython except on Android and Cygwin. It is now possible for a statically linked Python to load a C extension built using a shared library Python. (Contributed by Victor Stinner in bpo-21536.)\n",
      "\n",
      "On Unix, when Python is built in debug mode, import now also looks for C extensions compiled in release mode and for C extensions compiled with the stable ABI. (Contributed by Victor Stinner in bpo-36722.)\n",
      "\n",
      "To embed Python into an application, a new --embed option must be passed to python3-config --libs --embed to get -lpython3.8 (link the application to libpython). To support both 3.8 and older, try python3-config --libs --embed first and fallback to python3-config --libs (without --embed) if the previous command fails.\n",
      "\n",
      "Add a pkg-config python-3.8-embed module to embed Python into an application: pkg-config python-3.8-embed --libs includes -lpython3.8. To support both 3.8 and older, try pkg-config python-X.Y-embed --libs first and fallback to pkg-config python-X.Y --libs (without --embed) if the previous command fails (replace X.Y with the Python version).\n",
      "\n",
      "On the other hand, pkg-config python3.8 --libs no longer contains -lpython3.8. C extensions must not be linked to libpython (except on Android and Cygwin, whose cases are handled by the script); this change is backward incompatible on purpose. (Contributed by Victor Stinner in bpo-36721.)\n",
      "\n",
      "f-strings support = for self-documenting expressions and debugging\n",
      "Added an = specifier to f-strings. An f-string such as f'{expr=}' will expand to the text of the expression, an equal sign, then the representation of the evaluated expression. For example:\n",
      "\n",
      "user = 'eric_idle'\n",
      "member_since = date(1975, 7, 31)\n",
      "f'{user=} {member_since=}'\n",
      "\"user='eric_idle' member_since=datetime.date(1975, 7, 31)\"\n",
      "The usual f-string format specifiers allow more control over how the result of the expression is displayed:\n",
      "\n",
      ">>>\n",
      ">>> delta = date.today() - member_since\n",
      ">>> f'{user=!s}  {delta.days=:,d}'\n",
      "'user=eric_idle  delta.days=16,075'\n",
      "The = specifier will display the whole expression so that calculations can be shown:\n",
      "\n",
      ">>>\n",
      ">>> print(f'{theta=}  {cos(radians(theta))=:.3f}')\n",
      "theta=30  cos(radians(theta))=0.866\n"
     ]
    }
   ],
   "source": [
    "fp=open(\"E:\\sample1.txt\",\"r\",encoding = 'utf-8')\n",
    "content= fp.read()\n",
    "print(content)\n",
    "fp.close()"
   ]
  },
  {
   "cell_type": "code",
   "execution_count": 13,
   "metadata": {},
   "outputs": [],
   "source": [
    "fp=open(\"E:\\sample1.txt\",\"r\",encoding = 'utf-8')\n",
    "#content= fp.read()\n",
    "#print(content)\n",
    "data = \"\"\"What’s New In Python 3.8\n",
    "Editor\n",
    "Raymond Hettinger\n",
    "\n",
    "This article explains the new features in Python 3.8, compared to 3.7. For full details, see the changelog.\n",
    "\n",
    "Python 3.8 was released on October 14th, 2019.\n",
    "\n",
    "Summary – Release highlights\n",
    "New Features\n",
    "Assignment expressions\n",
    "There is new syntax := that assigns values to variables as part of a larger expression. It is affectionately known as “the walrus operator” due to its resemblance to the eyes and tusks of a walrus.\n",
    "\n",
    "In this example, the assignment expression helps avoid calling len() twice:\n",
    "\n",
    "if (n := len(a)) > 10:\n",
    "    print(f\"List is too long ({n} elements, expected <= 10)\")\n",
    "A similar benefit arises during regular expression matching where match objects are needed twice, once to test whether a match occurred and another to extract a subgroup:\n",
    "\n",
    "discount = 0.0\n",
    "if (mo := re.search(r'(\\d+)% discount', advertisement)):\n",
    "    discount = float(mo.group(1)) / 100.0\n",
    "The operator is also useful with while-loops that compute a value to test loop termination and then need that same value again in the body of the loop:\n",
    "\n",
    "# Loop over fixed length blocks\n",
    "while (block := f.read(256)) != '':\n",
    "    process(block)\n",
    "Another motivating use case arises in list comprehensions where a value computed in a filtering condition is also needed in the expression body:\n",
    "\n",
    "[clean_name.title() for name in names\n",
    " if (clean_name := normalize('NFC', name)) in allowed_names]\n",
    "Try to limit use of the walrus operator to clean cases that reduce complexity and improve readability.\n",
    "\n",
    "See PEP 572 for a full description.\n",
    "\n",
    "(Contributed by Emily Morehouse in bpo-35224.)\n",
    "\n",
    "Positional-only parameters\n",
    "There is a new function parameter syntax / to indicate that some function parameters must be specified positionally and cannot be used as keyword arguments. This is the same notation shown by help() for C functions annotated with Larry Hastings’ Argument Clinic tool.\n",
    "\n",
    "In the following example, parameters a and b are positional-only, while c or d can be positional or keyword, and e or f are required to be keywords:\n",
    "\n",
    "def f(a, b, /, c, d, *, e, f):\n",
    "    print(a, b, c, d, e, f)\n",
    "The following is a valid call:\n",
    "\n",
    "f(10, 20, 30, d=40, e=50, f=60)\n",
    "However, these are invalid calls:\n",
    "\n",
    "f(10, b=20, c=30, d=40, e=50, f=60)   # b cannot be a keyword argument\n",
    "f(10, 20, 30, 40, 50, f=60)           # e must be a keyword argument\n",
    "One use case for this notation is that it allows pure Python functions to fully emulate behaviors of existing C coded functions. For example, the built-in pow() function does not accept keyword arguments:\n",
    "\n",
    "def pow(x, y, z=None, /):\n",
    "    \"Emulate the built in pow() function\"\n",
    "    r = x ** y\n",
    "    return r if z is None else r%z\n",
    "Another use case is to preclude keyword arguments when the parameter name is not helpful. For example, the builtin len() function has the signature len(obj, /). This precludes awkward calls such as:\n",
    "\n",
    "len(obj='hello')  # The \"obj\" keyword argument impairs readability\n",
    "A further benefit of marking a parameter as positional-only is that it allows the parameter name to be changed in the future without risk of breaking client code. For example, in the statistics module, the parameter name dist may be changed in the future. This was made possible with the following function specification:\n",
    "\n",
    "def quantiles(dist, /, *, n=4, method='exclusive')\n",
    "    ...\n",
    "Since the parameters to the left of / are not exposed as possible keywords, the parameters names remain available for use in **kwargs:\n",
    "\n",
    ">>>\n",
    ">>> def f(a, b, /, **kwargs):\n",
    "...     print(a, b, kwargs)\n",
    "...\n",
    ">>> f(10, 20, a=1, b=2, c=3)         # a and b are used in two ways\n",
    "10 20 {'a': 1, 'b': 2, 'c': 3}\n",
    "This greatly simplifies the implementation of functions and methods that need to accept arbitrary keyword arguments. For example, here is an excerpt from code in the collections module:\n",
    "\n",
    "class Counter(dict):\n",
    "\n",
    "    def __init__(self, iterable=None, /, **kwds):\n",
    "        # Note \"iterable\" is a possible keyword argument\n",
    "See PEP 570 for a full description.\n",
    "\n",
    "(Contributed by Pablo Galindo in bpo-36540.)\n",
    "\n",
    "Parallel filesystem cache for compiled bytecode files\n",
    "The new PYTHONPYCACHEPREFIX setting (also available as -X pycache_prefix) configures the implicit bytecode cache to use a separate parallel filesystem tree, rather than the default __pycache__ subdirectories within each source directory.\n",
    "\n",
    "The location of the cache is reported in sys.pycache_prefix (None indicates the default location in __pycache__ subdirectories).\n",
    "\n",
    "(Contributed by Carl Meyer in bpo-33499.)\n",
    "\n",
    "Debug build uses the same ABI as release build\n",
    "Python now uses the same ABI whether it’s built in release or debug mode. On Unix, when Python is built in debug mode, it is now possible to load C extensions built in release mode and C extensions built using the stable ABI.\n",
    "\n",
    "Release builds and debug builds are now ABI compatible: defining the Py_DEBUG macro no longer implies the Py_TRACE_REFS macro, which introduces the only ABI incompatibility. The Py_TRACE_REFS macro, which adds the sys.getobjects() function and the PYTHONDUMPREFS environment variable, can be set using the new ./configure --with-trace-refs build option. (Contributed by Victor Stinner in bpo-36465.)\n",
    "\n",
    "On Unix, C extensions are no longer linked to libpython except on Android and Cygwin. It is now possible for a statically linked Python to load a C extension built using a shared library Python. (Contributed by Victor Stinner in bpo-21536.)\n",
    "\n",
    "On Unix, when Python is built in debug mode, import now also looks for C extensions compiled in release mode and for C extensions compiled with the stable ABI. (Contributed by Victor Stinner in bpo-36722.)\n",
    "\n",
    "To embed Python into an application, a new --embed option must be passed to python3-config --libs --embed to get -lpython3.8 (link the application to libpython). To support both 3.8 and older, try python3-config --libs --embed first and fallback to python3-config --libs (without --embed) if the previous command fails.\n",
    "\n",
    "Add a pkg-config python-3.8-embed module to embed Python into an application: pkg-config python-3.8-embed --libs includes -lpython3.8. To support both 3.8 and older, try pkg-config python-X.Y-embed --libs first and fallback to pkg-config python-X.Y --libs (without --embed) if the previous command fails (replace X.Y with the Python version).\n",
    "\n",
    "On the other hand, pkg-config python3.8 --libs no longer contains -lpython3.8. C extensions must not be linked to libpython (except on Android and Cygwin, whose cases are handled by the script); this change is backward incompatible on purpose. (Contributed by Victor Stinner in bpo-36721.)\n",
    "\n",
    "f-strings support = for self-documenting expressions and debugging\n",
    "Added an = specifier to f-strings. An f-string such as f'{expr=}' will expand to the text of the expression, an equal sign, then the representation of the evaluated expression. For example:\n",
    "\n",
    "user = 'eric_idle'\n",
    "member_since = date(1975, 7, 31)\n",
    "f'{user=} {member_since=}'\n",
    "\"user='eric_idle' member_since=datetime.date(1975, 7, 31)\"\n",
    "The usual f-string format specifiers allow more control over how the result of the expression is displayed:\n",
    "\n",
    ">>>\n",
    ">>> delta = date.today() - member_since\n",
    ">>> f'{user=!s}  {delta.days=:,d}'\n",
    "'user=eric_idle  delta.days=16,075'\n",
    "The = specifier will display the whole expression so that calculations can be shown:\n",
    "\n",
    ">>>\n",
    ">>> print(f'{theta=}  {cos(radians(theta))=:.3f}')\n",
    "theta=30  cos(radians(theta))=0.866\"\"\""
   ]
  },
  {
   "cell_type": "code",
   "execution_count": 25,
   "metadata": {},
   "outputs": [
    {
     "ename": "SyntaxError",
     "evalue": "invalid syntax (<ipython-input-25-60ffc2269bc9>, line 2)",
     "output_type": "error",
     "traceback": [
      "\u001b[1;36m  File \u001b[1;32m\"<ipython-input-25-60ffc2269bc9>\"\u001b[1;36m, line \u001b[1;32m2\u001b[0m\n\u001b[1;33m    a+\u001b[0m\n\u001b[1;37m      ^\u001b[0m\n\u001b[1;31mSyntaxError\u001b[0m\u001b[1;31m:\u001b[0m invalid syntax\n"
     ]
    }
   ],
   "source": [
    "a\n",
    "a+"
   ]
  },
  {
   "cell_type": "code",
   "execution_count": 27,
   "metadata": {},
   "outputs": [
    {
     "name": "stdout",
     "output_type": "stream",
     "text": [
      "7810\n",
      "What’s New In Python 3.8\n",
      "Editor\n",
      "Raymond Hettinger\n",
      "\n",
      "This article explains the new features in Python 3.8, compared to 3.7. For full details, see the changelog.\n",
      "\n",
      "Python 3.8 was released on October 14th, 2019.\n",
      "\n",
      "Summary – Release highlights\n",
      "New Features\n",
      "Assignment expressions\n",
      "There is new syntax := that assigns values to variables as part of a larger expression. It is affectionately known as “the walrus operator” due to its resemblance to the eyes and tusks of a walrus.\n",
      "\n",
      "In this example, the assignment expression helps avoid calling len() twice:\n",
      "\n",
      "if (n := len(a)) > 10:\n",
      "    print(f\"List is too long ({n} elements, expected <= 10)\")\n",
      "A similar benefit arises during regular expression matching where match objects are needed twice, once to test whether a match occurred and another to extract a subgroup:\n",
      "\n",
      "discount = 0.0\n",
      "if (mo := re.search(r'(\\d+)% discount', advertisement)):\n",
      "    discount = float(mo.group(1)) / 100.0\n",
      "The operator is also useful with while-loops that compute a value to test loop termination and then need that same value again in the body of the loop:\n",
      "\n",
      "# Loop over fixed length blocks\n",
      "while (block := f.read(256)) != '':\n",
      "    process(block)\n",
      "Another motivating use case arises in list comprehensions where a value computed in a filtering condition is also needed in the expression body:\n",
      "\n",
      "[clean_name.title() for name in names\n",
      " if (clean_name := normalize('NFC', name)) in allowed_names]\n",
      "Try to limit use of the walrus operator to clean cases that reduce complexity and improve readability.\n",
      "\n",
      "See PEP 572 for a full description.\n",
      "\n",
      "(Contributed by Emily Morehouse in bpo-35224.)\n",
      "\n",
      "Positional-only parameters\n",
      "There is a new function parameter syntax / to indicate that some function parameters must be specified positionally and cannot be used as keyword arguments. This is the same notation shown by help() for C functions annotated with Larry Hastings’ Argument Clinic tool.\n",
      "\n",
      "In the following example, parameters a and b are positional-only, while c or d can be positional or keyword, and e or f are required to be keywords:\n",
      "\n",
      "def f(a, b, /, c, d, *, e, f):\n",
      "    print(a, b, c, d, e, f)\n",
      "The following is a valid call:\n",
      "\n",
      "f(10, 20, 30, d=40, e=50, f=60)\n",
      "However, these are invalid calls:\n",
      "\n",
      "f(10, b=20, c=30, d=40, e=50, f=60)   # b cannot be a keyword argument\n",
      "f(10, 20, 30, 40, 50, f=60)           # e must be a keyword argument\n",
      "One use case for this notation is that it allows pure Python functions to fully emulate behaviors of existing C coded functions. For example, the built-in pow() function does not accept keyword arguments:\n",
      "\n",
      "def pow(x, y, z=None, /):\n",
      "    \"Emulate the built in pow() function\"\n",
      "    r = x ** y\n",
      "    return r if z is None else r%z\n",
      "Another use case is to preclude keyword arguments when the parameter name is not helpful. For example, the builtin len() function has the signature len(obj, /). This precludes awkward calls such as:\n",
      "\n",
      "len(obj='hello')  # The \"obj\" keyword argument impairs readability\n",
      "A further benefit of marking a parameter as positional-only is that it allows the parameter name to be changed in the future without risk of breaking client code. For example, in the statistics module, the parameter name dist may be changed in the future. This was made possible with the following function specification:\n",
      "\n",
      "def quantiles(dist, /, *, n=4, method='exclusive')\n",
      "    ...\n",
      "Since the parameters to the left of / are not exposed as possible keywords, the parameters names remain available for use in **kwargs:\n",
      "\n",
      ">>>\n",
      ">>> def f(a, b, /, **kwargs):\n",
      "...     print(a, b, kwargs)\n",
      "...\n",
      ">>> f(10, 20, a=1, b=2, c=3)         # a and b are used in two ways\n",
      "10 20 {'a': 1, 'b': 2, 'c': 3}\n",
      "This greatly simplifies the implementation of functions and methods that need to accept arbitrary keyword arguments. For example, here is an excerpt from code in the collections module:\n",
      "\n",
      "class Counter(dict):\n",
      "\n",
      "    def __init__(self, iterable=None, /, **kwds):\n",
      "        # Note \"iterable\" is a possible keyword argument\n",
      "See PEP 570 for a full description.\n",
      "\n",
      "(Contributed by Pablo Galindo in bpo-36540.)\n",
      "\n",
      "Parallel filesystem cache for compiled bytecode files\n",
      "The new PYTHONPYCACHEPREFIX setting (also available as -X pycache_prefix) configures the implicit bytecode cache to use a separate parallel filesystem tree, rather than the default __pycache__ subdirectories within each source directory.\n",
      "\n",
      "The location of the cache is reported in sys.pycache_prefix (None indicates the default location in __pycache__ subdirectories).\n",
      "\n",
      "(Contributed by Carl Meyer in bpo-33499.)\n",
      "\n",
      "Debug build uses the same ABI as release build\n",
      "Python now uses the same ABI whether it’s built in release or debug mode. On Unix, when Python is built in debug mode, it is now possible to load C extensions built in release mode and C extensions built using the stable ABI.\n",
      "\n",
      "Release builds and debug builds are now ABI compatible: defining the Py_DEBUG macro no longer implies the Py_TRACE_REFS macro, which introduces the only ABI incompatibility. The Py_TRACE_REFS macro, which adds the sys.getobjects() function and the PYTHONDUMPREFS environment variable, can be set using the new ./configure --with-trace-refs build option. (Contributed by Victor Stinner in bpo-36465.)\n",
      "\n",
      "On Unix, C extensions are no longer linked to libpython except on Android and Cygwin. It is now possible for a statically linked Python to load a C extension built using a shared library Python. (Contributed by Victor Stinner in bpo-21536.)\n",
      "\n",
      "On Unix, when Python is built in debug mode, import now also looks for C extensions compiled in release mode and for C extensions compiled with the stable ABI. (Contributed by Victor Stinner in bpo-36722.)\n",
      "\n",
      "To embed Python into an application, a new --embed option must be passed to python3-config --libs --embed to get -lpython3.8 (link the application to libpython). To support both 3.8 and older, try python3-config --libs --embed first and fallback to python3-config --libs (without --embed) if the previous command fails.\n",
      "\n",
      "Add a pkg-config python-3.8-embed module to embed Python into an application: pkg-config python-3.8-embed --libs includes -lpython3.8. To support both 3.8 and older, try pkg-config python-X.Y-embed --libs first and fallback to pkg-config python-X.Y --libs (without --embed) if the previous command fails (replace X.Y with the Python version).\n",
      "\n",
      "On the other hand, pkg-config python3.8 --libs no longer contains -lpython3.8. C extensions must not be linked to libpython (except on Android and Cygwin, whose cases are handled by the script); this change is backward incompatible on purpose. (Contributed by Victor Stinner in bpo-36721.)\n",
      "\n",
      "f-strings support = for self-documenting expressions and debugging\n",
      "Added an = specifier to f-strings. An f-string such as f'{expr=}' will expand to the text of the expression, an equal sign, then the representation of the evaluated expression. For example:\n",
      "\n",
      "user = 'eric_idle'\n",
      "member_since = date(1975, 7, 31)\n",
      "f'{user=} {member_since=}'\n",
      "\"user='eric_idle' member_since=datetime.date(1975, 7, 31)\"\n",
      "The usual f-string format specifiers allow more control over how the result of the expression is displayed:\n",
      "\n",
      ">>>\n",
      ">>> delta = date.today() - member_since\n",
      ">>> f'{user=!s}  {delta.days=:,d}'\n",
      "'user=eric_idle  delta.days=16,075'\n",
      "The = specifier will display the whole expression so that calculations can be shown:\n",
      "\n",
      ">>>\n",
      ">>> print(f'{theta=}  {cos(radians(theta))=:.3f}')\n",
      "theta=30  cos(radians(theta))=0.866\n",
      " \n",
      " add seek(15,1) to next release\n",
      " \n",
      " add seek(15,1) to next release\n",
      " \n",
      " add seek(15,1) to next release\n",
      " \n",
      " add seek(15,1) to next release\n",
      " \n",
      " add seek(15,1) to next release\n",
      " \n",
      " add seek(15,1) to next release\n",
      " \n",
      " add seek(15,1) to next release\n",
      " \n",
      " add seek(15,1) to next release\n",
      " \n",
      " add seek(15,1) to next release \n",
      " \n",
      " add seek(15,1) to next release \n"
     ]
    }
   ],
   "source": [
    "fp = open(\"E:\\sample1.txt\",'a+',encoding = 'utf-8')\n",
    "print(fp.tell())\n",
    "fp.write(\" \\n \\n add seek(15,1) to next release \")\n",
    "fp.seek(0)\n",
    "r = fp.read()\n",
    "print(r)\n",
    "fp.close()"
   ]
  },
  {
   "cell_type": "code",
   "execution_count": 26,
   "metadata": {},
   "outputs": [
    {
     "name": "stdout",
     "output_type": "stream",
     "text": [
      "7774\n",
      "hat’s New In Python 3.8\n",
      "Editor\n",
      "Raymond Hettinger\n",
      "\n",
      "This article explains the new features in Python 3.8, compared to 3.7. For full details, see the changelog.\n",
      "\n",
      "Python 3.8 was released on October 14th, 2019.\n",
      "\n",
      "Summary – Release highlights\n",
      "New Features\n",
      "Assignment expressions\n",
      "There is new syntax := that assigns values to variables as part of a larger expression. It is affectionately known as “the walrus operator” due to its resemblance to the eyes and tusks of a walrus.\n",
      "\n",
      "In this example, the assignment expression helps avoid calling len() twice:\n",
      "\n",
      "if (n := len(a)) > 10:\n",
      "    print(f\"List is too long ({n} elements, expected <= 10)\")\n",
      "A similar benefit arises during regular expression matching where match objects are needed twice, once to test whether a match occurred and another to extract a subgroup:\n",
      "\n",
      "discount = 0.0\n",
      "if (mo := re.search(r'(\\d+)% discount', advertisement)):\n",
      "    discount = float(mo.group(1)) / 100.0\n",
      "The operator is also useful with while-loops that compute a value to test loop termination and then need that same value again in the body of the loop:\n",
      "\n",
      "# Loop over fixed length blocks\n",
      "while (block := f.read(256)) != '':\n",
      "    process(block)\n",
      "Another motivating use case arises in list comprehensions where a value computed in a filtering condition is also needed in the expression body:\n",
      "\n",
      "[clean_name.title() for name in names\n",
      " if (clean_name := normalize('NFC', name)) in allowed_names]\n",
      "Try to limit use of the walrus operator to clean cases that reduce complexity and improve readability.\n",
      "\n",
      "See PEP 572 for a full description.\n",
      "\n",
      "(Contributed by Emily Morehouse in bpo-35224.)\n",
      "\n",
      "Positional-only parameters\n",
      "There is a new function parameter syntax / to indicate that some function parameters must be specified positionally and cannot be used as keyword arguments. This is the same notation shown by help() for C functions annotated with Larry Hastings’ Argument Clinic tool.\n",
      "\n",
      "In the following example, parameters a and b are positional-only, while c or d can be positional or keyword, and e or f are required to be keywords:\n",
      "\n",
      "def f(a, b, /, c, d, *, e, f):\n",
      "    print(a, b, c, d, e, f)\n",
      "The following is a valid call:\n",
      "\n",
      "f(10, 20, 30, d=40, e=50, f=60)\n",
      "However, these are invalid calls:\n",
      "\n",
      "f(10, b=20, c=30, d=40, e=50, f=60)   # b cannot be a keyword argument\n",
      "f(10, 20, 30, 40, 50, f=60)           # e must be a keyword argument\n",
      "One use case for this notation is that it allows pure Python functions to fully emulate behaviors of existing C coded functions. For example, the built-in pow() function does not accept keyword arguments:\n",
      "\n",
      "def pow(x, y, z=None, /):\n",
      "    \"Emulate the built in pow() function\"\n",
      "    r = x ** y\n",
      "    return r if z is None else r%z\n",
      "Another use case is to preclude keyword arguments when the parameter name is not helpful. For example, the builtin len() function has the signature len(obj, /). This precludes awkward calls such as:\n",
      "\n",
      "len(obj='hello')  # The \"obj\" keyword argument impairs readability\n",
      "A further benefit of marking a parameter as positional-only is that it allows the parameter name to be changed in the future without risk of breaking client code. For example, in the statistics module, the parameter name dist may be changed in the future. This was made possible with the following function specification:\n",
      "\n",
      "def quantiles(dist, /, *, n=4, method='exclusive')\n",
      "    ...\n",
      "Since the parameters to the left of / are not exposed as possible keywords, the parameters names remain available for use in **kwargs:\n",
      "\n",
      ">>>\n",
      ">>> def f(a, b, /, **kwargs):\n",
      "...     print(a, b, kwargs)\n",
      "...\n",
      ">>> f(10, 20, a=1, b=2, c=3)         # a and b are used in two ways\n",
      "10 20 {'a': 1, 'b': 2, 'c': 3}\n",
      "This greatly simplifies the implementation of functions and methods that need to accept arbitrary keyword arguments. For example, here is an excerpt from code in the collections module:\n",
      "\n",
      "class Counter(dict):\n",
      "\n",
      "    def __init__(self, iterable=None, /, **kwds):\n",
      "        # Note \"iterable\" is a possible keyword argument\n",
      "See PEP 570 for a full description.\n",
      "\n",
      "(Contributed by Pablo Galindo in bpo-36540.)\n",
      "\n",
      "Parallel filesystem cache for compiled bytecode files\n",
      "The new PYTHONPYCACHEPREFIX setting (also available as -X pycache_prefix) configures the implicit bytecode cache to use a separate parallel filesystem tree, rather than the default __pycache__ subdirectories within each source directory.\n",
      "\n",
      "The location of the cache is reported in sys.pycache_prefix (None indicates the default location in __pycache__ subdirectories).\n",
      "\n",
      "(Contributed by Carl Meyer in bpo-33499.)\n",
      "\n",
      "Debug build uses the same ABI as release build\n",
      "Python now uses the same ABI whether it’s built in release or debug mode. On Unix, when Python is built in debug mode, it is now possible to load C extensions built in release mode and C extensions built using the stable ABI.\n",
      "\n",
      "Release builds and debug builds are now ABI compatible: defining the Py_DEBUG macro no longer implies the Py_TRACE_REFS macro, which introduces the only ABI incompatibility. The Py_TRACE_REFS macro, which adds the sys.getobjects() function and the PYTHONDUMPREFS environment variable, can be set using the new ./configure --with-trace-refs build option. (Contributed by Victor Stinner in bpo-36465.)\n",
      "\n",
      "On Unix, C extensions are no longer linked to libpython except on Android and Cygwin. It is now possible for a statically linked Python to load a C extension built using a shared library Python. (Contributed by Victor Stinner in bpo-21536.)\n",
      "\n",
      "On Unix, when Python is built in debug mode, import now also looks for C extensions compiled in release mode and for C extensions compiled with the stable ABI. (Contributed by Victor Stinner in bpo-36722.)\n",
      "\n",
      "To embed Python into an application, a new --embed option must be passed to python3-config --libs --embed to get -lpython3.8 (link the application to libpython). To support both 3.8 and older, try python3-config --libs --embed first and fallback to python3-config --libs (without --embed) if the previous command fails.\n",
      "\n",
      "Add a pkg-config python-3.8-embed module to embed Python into an application: pkg-config python-3.8-embed --libs includes -lpython3.8. To support both 3.8 and older, try pkg-config python-X.Y-embed --libs first and fallback to pkg-config python-X.Y --libs (without --embed) if the previous command fails (replace X.Y with the Python version).\n",
      "\n",
      "On the other hand, pkg-config python3.8 --libs no longer contains -lpython3.8. C extensions must not be linked to libpython (except on Android and Cygwin, whose cases are handled by the script); this change is backward incompatible on purpose. (Contributed by Victor Stinner in bpo-36721.)\n",
      "\n",
      "f-strings support = for self-documenting expressions and debugging\n",
      "Added an = specifier to f-strings. An f-string such as f'{expr=}' will expand to the text of the expression, an equal sign, then the representation of the evaluated expression. For example:\n",
      "\n",
      "user = 'eric_idle'\n",
      "member_since = date(1975, 7, 31)\n",
      "f'{user=} {member_since=}'\n",
      "\"user='eric_idle' member_since=datetime.date(1975, 7, 31)\"\n",
      "The usual f-string format specifiers allow more control over how the result of the expression is displayed:\n",
      "\n",
      ">>>\n",
      ">>> delta = date.today() - member_since\n",
      ">>> f'{user=!s}  {delta.days=:,d}'\n",
      "'user=eric_idle  delta.days=16,075'\n",
      "The = specifier will display the whole expression so that calculations can be shown:\n",
      "\n",
      ">>>\n",
      ">>> print(f'{theta=}  {cos(radians(theta))=:.3f}')\n",
      "theta=30  cos(radians(theta))=0.866\n",
      " \n",
      " add seek(15,1) to next release\n",
      " \n",
      " add seek(15,1) to next release\n",
      " \n",
      " add seek(15,1) to next release\n",
      " \n",
      " add seek(15,1) to next release\n",
      " \n",
      " add seek(15,1) to next release\n",
      " \n",
      " add seek(15,1) to next release\n",
      " \n",
      " add seek(15,1) to next release\n",
      " \n",
      " add seek(15,1) to next release\n",
      " \n",
      " add seek(15,1) to next release\n"
     ]
    }
   ],
   "source": [
    "fp = open(\"E:\\sample1.txt\",\"a+\",encoding = 'utf-8')\n",
    "print(fp.tell())\n",
    "fp.write(\"\\n \\n add seek(15,1) to next release\")\n",
    "fp.seek(1)\n",
    "r = fp.read()\n",
    "print(r)\n",
    "fp.close()"
   ]
  },
  {
   "cell_type": "code",
   "execution_count": null,
   "metadata": {},
   "outputs": [],
   "source": []
  }
 ],
 "metadata": {
  "kernelspec": {
   "display_name": "Python 3",
   "language": "python",
   "name": "python3"
  },
  "language_info": {
   "codemirror_mode": {
    "name": "ipython",
    "version": 3
   },
   "file_extension": ".py",
   "mimetype": "text/x-python",
   "name": "python",
   "nbconvert_exporter": "python",
   "pygments_lexer": "ipython3",
   "version": "3.7.4"
  }
 },
 "nbformat": 4,
 "nbformat_minor": 2
}
